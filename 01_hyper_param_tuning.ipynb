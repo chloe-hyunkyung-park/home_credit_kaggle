{
 "cells": [
  {
   "cell_type": "markdown",
   "metadata": {
    "colab_type": "text",
    "id": "NEHCvFhIvR4F"
   },
   "source": [
    "# Using Bayesian Optimization for tuning the hyperparameters\n",
    "- data set of application and prev.application"
   ]
  },
  {
   "cell_type": "markdown",
   "metadata": {
    "colab_type": "text",
    "id": "eg1AO0nNvR4H"
   },
   "source": [
    "# Loading libraries and datasets. \n",
    "- Copying FE functions from previous application data"
   ]
  },
  {
   "cell_type": "code",
   "execution_count": 3,
   "metadata": {
    "colab": {},
    "colab_type": "code",
    "executionInfo": {
     "elapsed": 991,
     "status": "ok",
     "timestamp": 1599720204836,
     "user": {
      "displayName": "권철민",
      "photoUrl": "",
      "userId": "03917677622451543916"
     },
     "user_tz": -540
    },
    "id": "il0VyvcgvR4K"
   },
   "outputs": [],
   "source": [
    "import numpy as np\n",
    "import pandas as pd\n",
    "import gc\n",
    "import time\n",
    "import matplotlib.pyplot as plt\n",
    "import seaborn as sns\n",
    "import os\n",
    "%matplotlib inline\n",
    "\n",
    "pd.set_option('display.max_rows', 100)\n",
    "pd.set_option('display.max_columns', 200)"
   ]
  },
  {
   "cell_type": "code",
   "execution_count": 4,
   "metadata": {
    "colab": {},
    "colab_type": "code",
    "executionInfo": {
     "elapsed": 19158,
     "status": "ok",
     "timestamp": 1599720300489,
     "user": {
      "displayName": "권철민",
      "photoUrl": "",
      "userId": "03917677622451543916"
     },
     "user_tz": -540
    },
    "id": "vaO4thuSvR4X"
   },
   "outputs": [],
   "source": [
    "def get_dataset():\n",
    "    app_train = pd.read_csv('dataset/application_train.csv')\n",
    "    app_test = pd.read_csv('dataset/application_test.csv')\n",
    "    apps = pd.concat([app_train, app_test])\n",
    "    prev = pd.read_csv('dataset/previous_application.csv')\n",
    "\n",
    "    return apps, prev\n",
    "\n",
    "apps, prev = get_dataset()\n",
    "    "
   ]
  },
  {
   "cell_type": "markdown",
   "metadata": {
    "colab_type": "text",
    "id": "rmG4YOdpvR4e"
   },
   "source": [
    "# Copy feature engineering function from previous application data"
   ]
  },
  {
   "cell_type": "code",
   "execution_count": 5,
   "metadata": {
    "colab": {},
    "colab_type": "code",
    "executionInfo": {
     "elapsed": 1019,
     "status": "ok",
     "timestamp": 1599720313824,
     "user": {
      "displayName": "권철민",
      "photoUrl": "",
      "userId": "03917677622451543916"
     },
     "user_tz": -540
    },
    "id": "2WIrIw4uvR4h"
   },
   "outputs": [],
   "source": [
    "def get_apps_processed(apps):\n",
    "    \n",
    "    # EXT_SOURCE_X \n",
    "    apps['APPS_EXT_SOURCE_MEAN'] = apps[['EXT_SOURCE_1', 'EXT_SOURCE_2', 'EXT_SOURCE_3']].mean(axis=1)\n",
    "    apps['APPS_EXT_SOURCE_STD'] = apps[['EXT_SOURCE_1', 'EXT_SOURCE_2', 'EXT_SOURCE_3']].std(axis=1)\n",
    "    apps['APPS_EXT_SOURCE_STD'] = apps['APPS_EXT_SOURCE_STD'].fillna(apps['APPS_EXT_SOURCE_STD'].mean())\n",
    "      \n",
    "    # AMT_CREDIT \n",
    "    apps['APPS_ANNUITY_CREDIT_RATIO'] = apps['AMT_ANNUITY']/apps['AMT_CREDIT']\n",
    "    apps['APPS_GOODS_CREDIT_RATIO'] = apps['AMT_GOODS_PRICE']/apps['AMT_CREDIT']\n",
    "    \n",
    "    # AMT_INCOME_TOTAL \n",
    "    apps['APPS_ANNUITY_INCOME_RATIO'] = apps['AMT_ANNUITY']/apps['AMT_INCOME_TOTAL']\n",
    "    apps['APPS_CREDIT_INCOME_RATIO'] = apps['AMT_CREDIT']/apps['AMT_INCOME_TOTAL']\n",
    "    apps['APPS_GOODS_INCOME_RATIO'] = apps['AMT_GOODS_PRICE']/apps['AMT_INCOME_TOTAL']\n",
    "    apps['APPS_CNT_FAM_INCOME_RATIO'] = apps['AMT_INCOME_TOTAL']/apps['CNT_FAM_MEMBERS']\n",
    "    \n",
    "    # DAYS_BIRTH, DAYS_EMPLOYED \n",
    "    apps['APPS_EMPLOYED_BIRTH_RATIO'] = apps['DAYS_EMPLOYED']/apps['DAYS_BIRTH']\n",
    "    apps['APPS_INCOME_EMPLOYED_RATIO'] = apps['AMT_INCOME_TOTAL']/apps['DAYS_EMPLOYED']\n",
    "    apps['APPS_INCOME_BIRTH_RATIO'] = apps['AMT_INCOME_TOTAL']/apps['DAYS_BIRTH']\n",
    "    apps['APPS_CAR_BIRTH_RATIO'] = apps['OWN_CAR_AGE'] / apps['DAYS_BIRTH']\n",
    "    apps['APPS_CAR_EMPLOYED_RATIO'] = apps['OWN_CAR_AGE'] / apps['DAYS_EMPLOYED']\n",
    "       \n",
    "    return apps"
   ]
  },
  {
   "cell_type": "markdown",
   "metadata": {
    "colab_type": "text",
    "id": "9mU0PqE9vR4o"
   },
   "source": [
    "# Declaration of functions that encode and generate the final set of data after processing the previous application data"
   ]
  },
  {
   "cell_type": "code",
   "execution_count": 6,
   "metadata": {
    "colab": {},
    "colab_type": "code",
    "executionInfo": {
     "elapsed": 1087,
     "status": "ok",
     "timestamp": 1599720316275,
     "user": {
      "displayName": "권철민",
      "photoUrl": "",
      "userId": "03917677622451543916"
     },
     "user_tz": -540
    },
    "id": "VOSuDuMvvR4p"
   },
   "outputs": [],
   "source": [
    "from sklearn.model_selection import train_test_split\n",
    "from lightgbm import LGBMClassifier\n",
    "\n",
    "def get_prev_processed(prev):\n",
    "    # The difference and ratio between the loan application amount and the actual loan amount/loan product amount\n",
    "    prev['PREV_CREDIT_DIFF'] = prev['AMT_APPLICATION'] - prev['AMT_CREDIT']\n",
    "    prev['PREV_GOODS_DIFF'] = prev['AMT_APPLICATION'] - prev['AMT_GOODS_PRICE']\n",
    "    prev['PREV_CREDIT_APPL_RATIO'] = prev['AMT_CREDIT']/prev['AMT_APPLICATION']\n",
    "    # prev['PREV_ANNUITY_APPL_RATIO'] = prev['AMT_ANNUITY']/prev['AMT_APPLICATION']\n",
    "    prev['PREV_GOODS_APPL_RATIO'] = prev['AMT_GOODS_PRICE']/prev['AMT_APPLICATION']\n",
    "    \n",
    "    prev['DAYS_FIRST_DRAWING'].replace(365243, np.nan, inplace= True)\n",
    "    prev['DAYS_FIRST_DUE'].replace(365243, np.nan, inplace= True)\n",
    "    prev['DAYS_LAST_DUE_1ST_VERSION'].replace(365243, np.nan, inplace= True)\n",
    "    prev['DAYS_LAST_DUE'].replace(365243, np.nan, inplace= True)\n",
    "    prev['DAYS_TERMINATION'].replace(365243, np.nan, inplace= True)\n",
    "    # the period from the first due date to the last due date\n",
    "    prev['PREV_DAYS_LAST_DUE_DIFF'] = prev['DAYS_LAST_DUE_1ST_VERSION'] - prev['DAYS_LAST_DUE']\n",
    "    # Calculate the total amount paid by multiplying the monthly amount by the number of payments.\n",
    "    all_pay = prev['AMT_ANNUITY'] * prev['CNT_PAYMENT']\n",
    "    # Calculate the interest rate by obtaining the AMT_CREDIT ratio to the total amount paid and dividing it by the number of payments again.\n",
    "    prev['PREV_INTERESTS_RATE'] = (all_pay/prev['AMT_CREDIT'] - 1)/prev['CNT_PAYMENT']\n",
    "        \n",
    "    return prev\n",
    "    \n",
    "    \n",
    "def get_prev_amt_agg(prev):\n",
    "    # Aggregation is carried out with a difference and ratio of different amounts compared to the newly created loan application amount.\n",
    "    agg_dict = {\n",
    "         # aggregation with the existing columns\n",
    "        'SK_ID_CURR':['count'],\n",
    "        'AMT_CREDIT':['mean', 'max', 'sum'],\n",
    "        'AMT_ANNUITY':['mean', 'max', 'sum'], \n",
    "        'AMT_APPLICATION':['mean', 'max', 'sum'],\n",
    "        'AMT_DOWN_PAYMENT':['mean', 'max', 'sum'],\n",
    "        'AMT_GOODS_PRICE':['mean', 'max', 'sum'],\n",
    "        'RATE_DOWN_PAYMENT': ['min', 'max', 'mean'],\n",
    "        'DAYS_DECISION': ['min', 'max', 'mean'],\n",
    "        'CNT_PAYMENT': ['mean', 'sum'],\n",
    "        # aggregation with the pre-processed columns\n",
    "        'PREV_CREDIT_DIFF':['mean', 'max', 'sum'], \n",
    "        'PREV_CREDIT_APPL_RATIO':['mean', 'max'],\n",
    "        'PREV_GOODS_DIFF':['mean', 'max', 'sum'],\n",
    "        'PREV_GOODS_APPL_RATIO':['mean', 'max'],\n",
    "        'PREV_DAYS_LAST_DUE_DIFF':['mean', 'max', 'sum'],\n",
    "        'PREV_INTERESTS_RATE':['mean', 'max']\n",
    "    }\n",
    "\n",
    "    prev_group = prev.groupby('SK_ID_CURR')\n",
    "    prev_amt_agg = prev_group.agg(agg_dict)\n",
    "\n",
    "    # change col names with underbar _\n",
    "    prev_amt_agg.columns = [\"PREV_\"+ \"_\".join(x).upper() for x in prev_amt_agg.columns.ravel()]\n",
    "    \n",
    "    return prev_amt_agg\n",
    "\n",
    "def get_prev_refused_appr_agg(prev):\n",
    "    # Perform groupby with the original groupby column + detailed reference column. Aggregates at a granular level and then transforms to an unstack() column level.\n",
    "    prev_refused_appr_group = prev[prev['NAME_CONTRACT_STATUS'].isin(['Approved', 'Refused'])].groupby([ 'SK_ID_CURR', 'NAME_CONTRACT_STATUS'])\n",
    "    prev_refused_appr_agg = prev_refused_appr_group['SK_ID_CURR'].count().unstack()\n",
    "    # change col names\n",
    "    prev_refused_appr_agg.columns = ['PREV_APPROVED_COUNT', 'PREV_REFUSED_COUNT' ]\n",
    "    # NaN into 0\n",
    "    prev_refused_appr_agg = prev_refused_appr_agg.fillna(0)\n",
    "    \n",
    "    return prev_refused_appr_agg\n",
    "\n",
    "    \n",
    "\n",
    "def get_prev_agg(prev):\n",
    "    prev = get_prev_processed(prev)\n",
    "    prev_amt_agg = get_prev_amt_agg(prev)\n",
    "    prev_refused_appr_agg = get_prev_refused_appr_agg(prev)\n",
    "    prev_days365_agg = get_prev_days365_agg(prev)\n",
    "    \n",
    "    # join with prev_amt_agg\n",
    "    prev_agg = prev_amt_agg.merge(prev_refused_appr_agg, on='SK_ID_CURR', how='left')\n",
    "    prev_agg = prev_agg.merge(prev_days365_agg, on='SK_ID_CURR', how='left')\n",
    "    # Generation of APPROVED_COUNT and REFUSED_COUNT ratio compared to past loans by SK_ID_CURR.\n",
    "    prev_agg['PREV_REFUSED_RATIO'] = prev_agg['PREV_REFUSED_COUNT']/prev_agg['PREV_SK_ID_CURR_COUNT']\n",
    "    prev_agg['PREV_APPROVED_RATIO'] = prev_agg['PREV_APPROVED_COUNT']/prev_agg['PREV_SK_ID_CURR_COUNT']\n",
    "    # Drop 'PREV_REFUSED_COUNT', 'PREV_APPROVED_COUNT'\n",
    "    prev_agg = prev_agg.drop(['PREV_REFUSED_COUNT', 'PREV_APPROVED_COUNT'], axis=1)\n",
    "    \n",
    "    return prev_agg\n",
    "\n",
    "def get_apps_all_with_prev_agg(apps, prev):\n",
    "    apps_all =  get_apps_processed(apps)\n",
    "    prev_agg = get_prev_agg(prev)\n",
    "    print('prev_agg shape:', prev_agg.shape)\n",
    "    print('apps_all before merge shape:', apps_all.shape)\n",
    "    apps_all = apps_all.merge(prev_agg, on='SK_ID_CURR', how='left')\n",
    "    print('apps_all after merge with prev_agg shape:', apps_all.shape)\n",
    "    \n",
    "    return apps_all\n",
    "\n",
    "def get_apps_all_encoded(apps_all):\n",
    "    object_columns = apps_all.dtypes[apps_all.dtypes == 'object'].index.tolist()\n",
    "    for column in object_columns:\n",
    "        apps_all[column] = pd.factorize(apps_all[column])[0]\n",
    "    \n",
    "    return apps_all\n",
    "\n",
    "def get_apps_all_train_test(apps_all):\n",
    "    apps_all_train = apps_all[~apps_all['TARGET'].isnull()]\n",
    "    apps_all_test = apps_all[apps_all['TARGET'].isnull()]\n",
    "\n",
    "    apps_all_test = apps_all_test.drop('TARGET', axis=1)\n",
    "    \n",
    "    return apps_all_train, apps_all_test\n",
    "    \n",
    "def train_apps_all(apps_all_train):\n",
    "    ftr_app = apps_all_train.drop(['SK_ID_CURR', 'TARGET'], axis=1)\n",
    "    target_app = apps_all_train['TARGET']\n",
    "\n",
    "    train_x, valid_x, train_y, valid_y = train_test_split(ftr_app, target_app, test_size=0.3, random_state=2020)\n",
    "    print('train shape:', train_x.shape, 'valid shape:', valid_x.shape)\n",
    "    clf = LGBMClassifier(\n",
    "                nthread=4,\n",
    "                n_estimators=2000,\n",
    "                learning_rate=0.01,\n",
    "                num_leaves=32,\n",
    "                colsample_bytree=0.8,\n",
    "                subsample=0.8,\n",
    "                max_depth=8,\n",
    "                reg_alpha=0.04,\n",
    "                reg_lambda=0.07,\n",
    "                min_child_weight=40,\n",
    "                silent=-1,\n",
    "                verbose=-1,\n",
    "                )\n",
    "\n",
    "    clf.fit(train_x, train_y, eval_set=[(train_x, train_y), (valid_x, valid_y)], eval_metric= 'auc', verbose= 100, \n",
    "                early_stopping_rounds= 100)\n",
    "    \n",
    "    return clf"
   ]
  },
  {
   "cell_type": "markdown",
   "metadata": {
    "colab_type": "text",
    "id": "nqqmKKhrvR4w"
   },
   "source": [
    "# Encoding, Splitting train and test, and Splitting train and valid before the final dataset"
   ]
  },
  {
   "cell_type": "code",
   "execution_count": 7,
   "metadata": {
    "colab": {
     "base_uri": "https://localhost:8080/",
     "height": 74
    },
    "colab_type": "code",
    "executionInfo": {
     "elapsed": 9499,
     "status": "ok",
     "timestamp": 1599720328172,
     "user": {
      "displayName": "권철민",
      "photoUrl": "",
      "userId": "03917677622451543916"
     },
     "user_tz": -540
    },
    "id": "-vsBLQ8FvR4x",
    "outputId": "16575155-27fa-4510-bbb5-7bfe7144f19a"
   },
   "outputs": [
    {
     "name": "stderr",
     "output_type": "stream",
     "text": [
      "/var/folders/df/19n86p1s63b0654c8m28bsg80000gn/T/ipykernel_68453/1480129953.py:53: FutureWarning: Index.ravel returning ndarray is deprecated; in a future version this will return a view on self.\n",
      "  prev_amt_agg.columns = [\"PREV_\"+ \"_\".join(x).upper() for x in prev_amt_agg.columns.ravel()]\n"
     ]
    },
    {
     "name": "stdout",
     "output_type": "stream",
     "text": [
      "prev_agg shape: (338857, 41)\n",
      "apps_all before merge shape: (356255, 135)\n",
      "apps_all after merge with prev_agg shape: (356255, 176)\n"
     ]
    }
   ],
   "source": [
    "apps_all = get_apps_all_with_prev_agg(apps, prev)\n",
    "apps_all = get_apps_all_encoded(apps_all)\n",
    "apps_all_train, apps_all_test = get_apps_all_train_test(apps_all)\n",
    "ftr_app = apps_all_train.drop(['SK_ID_CURR', 'TARGET'], axis=1)\n",
    "target_app = apps_all_train['TARGET']\n",
    "train_x, valid_x, train_y, valid_y = train_test_split(ftr_app, target_app, test_size=0.3, random_state=2020)\n"
   ]
  },
  {
   "cell_type": "markdown",
   "metadata": {
    "colab_type": "text",
    "id": "DEOB24lVvR47"
   },
   "source": [
    "#### Bayesian Optimization "
   ]
  },
  {
   "cell_type": "code",
   "execution_count": 8,
   "metadata": {
    "colab": {
     "base_uri": "https://localhost:8080/",
     "height": 282
    },
    "colab_type": "code",
    "executionInfo": {
     "elapsed": 5630,
     "status": "ok",
     "timestamp": 1599720420983,
     "user": {
      "displayName": "권철민",
      "photoUrl": "",
      "userId": "03917677622451543916"
     },
     "user_tz": -540
    },
    "id": "MDf92dTOw0rR",
    "outputId": "fbf92f64-95cc-4fed-b03e-def2cc61f2ca"
   },
   "outputs": [
    {
     "name": "stdout",
     "output_type": "stream",
     "text": [
      "Requirement already satisfied: bayesian-optimization in /Users/chloe/opt/anaconda3/lib/python3.9/site-packages (1.2.0)\n",
      "Requirement already satisfied: numpy>=1.9.0 in /Users/chloe/opt/anaconda3/lib/python3.9/site-packages (from bayesian-optimization) (1.21.5)\n",
      "Requirement already satisfied: scikit-learn>=0.18.0 in /Users/chloe/opt/anaconda3/lib/python3.9/site-packages (from bayesian-optimization) (1.0.2)\n",
      "Requirement already satisfied: scipy>=0.14.0 in /Users/chloe/opt/anaconda3/lib/python3.9/site-packages (from bayesian-optimization) (1.7.3)\n",
      "Requirement already satisfied: joblib>=0.11 in /Users/chloe/opt/anaconda3/lib/python3.9/site-packages (from scikit-learn>=0.18.0->bayesian-optimization) (1.1.0)\n",
      "Requirement already satisfied: threadpoolctl>=2.0.0 in /Users/chloe/opt/anaconda3/lib/python3.9/site-packages (from scikit-learn>=0.18.0->bayesian-optimization) (2.2.0)\n"
     ]
    }
   ],
   "source": [
    "# bayesian optimization 패키지 설치\n",
    "!conda install bayesian-optimization"
   ]
  },
  {
   "cell_type": "code",
   "execution_count": 9,
   "metadata": {
    "colab": {},
    "colab_type": "code",
    "executionInfo": {
     "elapsed": 920,
     "status": "ok",
     "timestamp": 1599720449726,
     "user": {
      "displayName": "권철민",
      "photoUrl": "",
      "userId": "03917677622451543916"
     },
     "user_tz": -540
    },
    "id": "MDQVRZeRvR48"
   },
   "outputs": [],
   "source": [
    "from bayes_opt import BayesianOptimization\n",
    "from sklearn.metrics import roc_auc_score\n",
    "from lightgbm import LGBMClassifier"
   ]
  },
  {
   "cell_type": "markdown",
   "metadata": {
    "colab_type": "text",
    "id": "dDmrYrAUvR5B"
   },
   "source": [
    "# Set the range of testing per each hyper-parameter"
   ]
  },
  {
   "cell_type": "code",
   "execution_count": 10,
   "metadata": {
    "colab": {},
    "colab_type": "code",
    "executionInfo": {
     "elapsed": 952,
     "status": "ok",
     "timestamp": 1599720455966,
     "user": {
      "displayName": "권철민",
      "photoUrl": "",
      "userId": "03917677622451543916"
     },
     "user_tz": -540
    },
    "id": "NrIZzOHbvR5C"
   },
   "outputs": [],
   "source": [
    "# parameter 별로 search할 범위를 설정. \n",
    "bayesian_params = {\n",
    "    'max_depth': (6, 16), \n",
    "    'num_leaves': (24, 64), \n",
    "    'min_child_samples': (10, 200), \n",
    "    'min_child_weight':(1, 50),\n",
    "    'subsample':(0.5, 1.0),\n",
    "    'colsample_bytree': (0.5, 1.0),\n",
    "    'max_bin':(10, 500),\n",
    "    'reg_lambda':(0.001, 10),\n",
    "    'reg_alpha': (0.01, 50) \n",
    "}"
   ]
  },
  {
   "cell_type": "markdown",
   "metadata": {
    "colab_type": "text",
    "id": "yog23y34vR5H"
   },
   "source": [
    "# Declaration of the function to get the best roc_auc_score\n",
    "- Enter hyperparameter at every iteration to learn the classifier and return the loc_auc_score value"
   ]
  },
  {
   "cell_type": "code",
   "execution_count": 11,
   "metadata": {
    "colab": {},
    "colab_type": "code",
    "executionInfo": {
     "elapsed": 977,
     "status": "ok",
     "timestamp": 1599720458353,
     "user": {
      "displayName": "권철민",
      "photoUrl": "",
      "userId": "03917677622451543916"
     },
     "user_tz": -540
    },
    "id": "YduL1j4RvR5J"
   },
   "outputs": [],
   "source": [
    "def lgb_roc_eval(max_depth, num_leaves, min_child_samples, min_child_weight, subsample, \n",
    "                colsample_bytree,max_bin, reg_lambda, reg_alpha):\n",
    "    params = {\n",
    "        \"n_estimators\":500, \"learning_rate\":0.02,\n",
    "        'max_depth': int(round(max_depth)), #  Change integer hyperparameters to integer types because real-world values are entered at the time of call\n",
    "        'num_leaves': int(round(num_leaves)), \n",
    "        'min_child_samples': int(round(min_child_samples)),\n",
    "        'min_child_weight': int(round(min_child_weight)),\n",
    "        'subsample': max(min(subsample, 1), 0), \n",
    "        'colsample_bytree': max(min(colsample_bytree, 1), 0),\n",
    "        'max_bin':  max(int(round(max_bin)),10),\n",
    "        'reg_lambda': max(reg_lambda,0),\n",
    "        'reg_alpha': max(reg_alpha, 0)\n",
    "    }\n",
    "    lgb_model = LGBMClassifier(**params)\n",
    "    lgb_model.fit(train_x, train_y, eval_set=[(train_x, train_y), (valid_x, valid_y)], eval_metric= 'auc', verbose= 100, \n",
    "                early_stopping_rounds= 100)\n",
    "    valid_proba = lgb_model.predict_proba(valid_x)[:, 1]\n",
    "    roc_auc = roc_auc_score(valid_y, valid_proba)\n",
    "    \n",
    "    return roc_auc   "
   ]
  },
  {
   "cell_type": "markdown",
   "metadata": {
    "colab_type": "text",
    "id": "cmnQwMudvR5Q"
   },
   "source": [
    "# Bayesian Optimization object\n",
    "- The object performs iterations for search of input value with maximum function return value"
   ]
  },
  {
   "cell_type": "code",
   "execution_count": 12,
   "metadata": {
    "colab": {
     "base_uri": "https://localhost:8080/",
     "height": 1000
    },
    "colab_type": "code",
    "executionInfo": {
     "elapsed": 4357438,
     "status": "ok",
     "timestamp": 1599724818024,
     "user": {
      "displayName": "권철민",
      "photoUrl": "",
      "userId": "03917677622451543916"
     },
     "user_tz": -540
    },
    "id": "Vcny5qJrvR5R",
    "outputId": "4f6708e1-b153-40c8-a0e7-98880aea2310",
    "scrolled": true
   },
   "outputs": [
    {
     "name": "stdout",
     "output_type": "stream",
     "text": [
      "|   iter    |  target   | colsam... |  max_bin  | max_depth | min_ch... | min_ch... | num_le... | reg_alpha | reg_la... | subsample |\n",
      "-------------------------------------------------------------------------------------------------------------------------------------\n"
     ]
    },
    {
     "name": "stderr",
     "output_type": "stream",
     "text": [
      "/Users/chloe/opt/anaconda3/lib/python3.9/site-packages/lightgbm/sklearn.py:726: UserWarning: 'early_stopping_rounds' argument is deprecated and will be removed in a future release of LightGBM. Pass 'early_stopping()' callback via 'callbacks' argument instead.\n",
      "  _log_warning(\"'early_stopping_rounds' argument is deprecated and will be removed in a future release of LightGBM. \"\n",
      "/Users/chloe/opt/anaconda3/lib/python3.9/site-packages/lightgbm/sklearn.py:736: UserWarning: 'verbose' argument is deprecated and will be removed in a future release of LightGBM. Pass 'log_evaluation()' callback via 'callbacks' argument instead.\n",
      "  _log_warning(\"'verbose' argument is deprecated and will be removed in a future release of LightGBM. \"\n"
     ]
    },
    {
     "name": "stdout",
     "output_type": "stream",
     "text": [
      "[100]\ttraining's auc: 0.769939\ttraining's binary_logloss: 0.245972\tvalid_1's auc: 0.755365\tvalid_1's binary_logloss: 0.248955\n",
      "[200]\ttraining's auc: 0.787803\ttraining's binary_logloss: 0.238321\tvalid_1's auc: 0.766241\tvalid_1's binary_logloss: 0.244245\n",
      "[300]\ttraining's auc: 0.799182\ttraining's binary_logloss: 0.233888\tvalid_1's auc: 0.771322\tvalid_1's binary_logloss: 0.2424\n",
      "[400]\ttraining's auc: 0.808279\ttraining's binary_logloss: 0.230482\tvalid_1's auc: 0.773931\tvalid_1's binary_logloss: 0.241467\n",
      "[500]\ttraining's auc: 0.816375\ttraining's binary_logloss: 0.227514\tvalid_1's auc: 0.775402\tvalid_1's binary_logloss: 0.240963\n",
      "| \u001b[0m 1       \u001b[0m | \u001b[0m 0.7754  \u001b[0m | \u001b[0m 0.7744  \u001b[0m | \u001b[0m 360.4   \u001b[0m | \u001b[0m 12.03   \u001b[0m | \u001b[0m 113.5   \u001b[0m | \u001b[0m 21.76   \u001b[0m | \u001b[0m 49.84   \u001b[0m | \u001b[0m 21.88   \u001b[0m | \u001b[0m 8.918   \u001b[0m | \u001b[0m 0.9818  \u001b[0m |\n"
     ]
    },
    {
     "name": "stderr",
     "output_type": "stream",
     "text": [
      "/Users/chloe/opt/anaconda3/lib/python3.9/site-packages/lightgbm/sklearn.py:726: UserWarning: 'early_stopping_rounds' argument is deprecated and will be removed in a future release of LightGBM. Pass 'early_stopping()' callback via 'callbacks' argument instead.\n",
      "  _log_warning(\"'early_stopping_rounds' argument is deprecated and will be removed in a future release of LightGBM. \"\n",
      "/Users/chloe/opt/anaconda3/lib/python3.9/site-packages/lightgbm/sklearn.py:736: UserWarning: 'verbose' argument is deprecated and will be removed in a future release of LightGBM. Pass 'log_evaluation()' callback via 'callbacks' argument instead.\n",
      "  _log_warning(\"'verbose' argument is deprecated and will be removed in a future release of LightGBM. \"\n"
     ]
    },
    {
     "name": "stdout",
     "output_type": "stream",
     "text": [
      "[100]\ttraining's auc: 0.762698\ttraining's binary_logloss: 0.247398\tvalid_1's auc: 0.753688\tvalid_1's binary_logloss: 0.249103\n",
      "[200]\ttraining's auc: 0.780369\ttraining's binary_logloss: 0.240433\tvalid_1's auc: 0.765612\tvalid_1's binary_logloss: 0.2443\n",
      "[300]\ttraining's auc: 0.791026\ttraining's binary_logloss: 0.236421\tvalid_1's auc: 0.771186\tvalid_1's binary_logloss: 0.242295\n",
      "[400]\ttraining's auc: 0.7992\ttraining's binary_logloss: 0.2335\tvalid_1's auc: 0.773979\tvalid_1's binary_logloss: 0.241311\n",
      "[500]\ttraining's auc: 0.806039\ttraining's binary_logloss: 0.231038\tvalid_1's auc: 0.775665\tvalid_1's binary_logloss: 0.240713\n",
      "| \u001b[95m 2       \u001b[0m | \u001b[95m 0.7757  \u001b[0m | \u001b[95m 0.6917  \u001b[0m | \u001b[95m 397.9   \u001b[0m | \u001b[95m 11.29   \u001b[0m | \u001b[95m 117.9   \u001b[0m | \u001b[95m 46.35   \u001b[0m | \u001b[95m 26.84   \u001b[0m | \u001b[95m 4.366   \u001b[0m | \u001b[95m 0.2032  \u001b[0m | \u001b[95m 0.9163  \u001b[0m |\n"
     ]
    },
    {
     "name": "stderr",
     "output_type": "stream",
     "text": [
      "/Users/chloe/opt/anaconda3/lib/python3.9/site-packages/lightgbm/sklearn.py:726: UserWarning: 'early_stopping_rounds' argument is deprecated and will be removed in a future release of LightGBM. Pass 'early_stopping()' callback via 'callbacks' argument instead.\n",
      "  _log_warning(\"'early_stopping_rounds' argument is deprecated and will be removed in a future release of LightGBM. \"\n",
      "/Users/chloe/opt/anaconda3/lib/python3.9/site-packages/lightgbm/sklearn.py:736: UserWarning: 'verbose' argument is deprecated and will be removed in a future release of LightGBM. Pass 'log_evaluation()' callback via 'callbacks' argument instead.\n",
      "  _log_warning(\"'verbose' argument is deprecated and will be removed in a future release of LightGBM. \"\n"
     ]
    },
    {
     "name": "stdout",
     "output_type": "stream",
     "text": [
      "[100]\ttraining's auc: 0.776213\ttraining's binary_logloss: 0.243747\tvalid_1's auc: 0.757416\tvalid_1's binary_logloss: 0.247941\n",
      "[200]\ttraining's auc: 0.797209\ttraining's binary_logloss: 0.234929\tvalid_1's auc: 0.768588\tvalid_1's binary_logloss: 0.243224\n",
      "[300]\ttraining's auc: 0.81243\ttraining's binary_logloss: 0.229169\tvalid_1's auc: 0.773282\tvalid_1's binary_logloss: 0.241607\n",
      "[400]\ttraining's auc: 0.825253\ttraining's binary_logloss: 0.22435\tvalid_1's auc: 0.776174\tvalid_1's binary_logloss: 0.240627\n",
      "[500]\ttraining's auc: 0.83611\ttraining's binary_logloss: 0.220261\tvalid_1's auc: 0.777334\tvalid_1's binary_logloss: 0.240203\n",
      "| \u001b[95m 3       \u001b[0m | \u001b[95m 0.7773  \u001b[0m | \u001b[95m 0.8891  \u001b[0m | \u001b[95m 436.3   \u001b[0m | \u001b[95m 15.79   \u001b[0m | \u001b[95m 161.8   \u001b[0m | \u001b[95m 23.61   \u001b[0m | \u001b[95m 55.22   \u001b[0m | \u001b[95m 5.923   \u001b[0m | \u001b[95m 6.4     \u001b[0m | \u001b[95m 0.5717  \u001b[0m |\n"
     ]
    },
    {
     "name": "stderr",
     "output_type": "stream",
     "text": [
      "/Users/chloe/opt/anaconda3/lib/python3.9/site-packages/lightgbm/sklearn.py:726: UserWarning: 'early_stopping_rounds' argument is deprecated and will be removed in a future release of LightGBM. Pass 'early_stopping()' callback via 'callbacks' argument instead.\n",
      "  _log_warning(\"'early_stopping_rounds' argument is deprecated and will be removed in a future release of LightGBM. \"\n",
      "/Users/chloe/opt/anaconda3/lib/python3.9/site-packages/lightgbm/sklearn.py:736: UserWarning: 'verbose' argument is deprecated and will be removed in a future release of LightGBM. Pass 'log_evaluation()' callback via 'callbacks' argument instead.\n",
      "  _log_warning(\"'verbose' argument is deprecated and will be removed in a future release of LightGBM. \"\n"
     ]
    },
    {
     "name": "stdout",
     "output_type": "stream",
     "text": [
      "[100]\ttraining's auc: 0.766354\ttraining's binary_logloss: 0.246786\tvalid_1's auc: 0.753878\tvalid_1's binary_logloss: 0.24926\n",
      "[200]\ttraining's auc: 0.783371\ttraining's binary_logloss: 0.239678\tvalid_1's auc: 0.765124\tvalid_1's binary_logloss: 0.244595\n",
      "[300]\ttraining's auc: 0.793705\ttraining's binary_logloss: 0.235747\tvalid_1's auc: 0.770047\tvalid_1's binary_logloss: 0.242805\n",
      "[400]\ttraining's auc: 0.80153\ttraining's binary_logloss: 0.232819\tvalid_1's auc: 0.77258\tvalid_1's binary_logloss: 0.241896\n",
      "[500]\ttraining's auc: 0.808258\ttraining's binary_logloss: 0.23033\tvalid_1's auc: 0.77434\tvalid_1's binary_logloss: 0.241283\n",
      "| \u001b[0m 4       \u001b[0m | \u001b[0m 0.7743  \u001b[0m | \u001b[0m 0.9723  \u001b[0m | \u001b[0m 265.7   \u001b[0m | \u001b[0m 10.15   \u001b[0m | \u001b[0m 60.27   \u001b[0m | \u001b[0m 38.94   \u001b[0m | \u001b[0m 42.25   \u001b[0m | \u001b[0m 28.43   \u001b[0m | \u001b[0m 0.1889  \u001b[0m | \u001b[0m 0.8088  \u001b[0m |\n"
     ]
    },
    {
     "name": "stderr",
     "output_type": "stream",
     "text": [
      "/Users/chloe/opt/anaconda3/lib/python3.9/site-packages/lightgbm/sklearn.py:726: UserWarning: 'early_stopping_rounds' argument is deprecated and will be removed in a future release of LightGBM. Pass 'early_stopping()' callback via 'callbacks' argument instead.\n",
      "  _log_warning(\"'early_stopping_rounds' argument is deprecated and will be removed in a future release of LightGBM. \"\n",
      "/Users/chloe/opt/anaconda3/lib/python3.9/site-packages/lightgbm/sklearn.py:736: UserWarning: 'verbose' argument is deprecated and will be removed in a future release of LightGBM. Pass 'log_evaluation()' callback via 'callbacks' argument instead.\n",
      "  _log_warning(\"'verbose' argument is deprecated and will be removed in a future release of LightGBM. \"\n"
     ]
    },
    {
     "name": "stdout",
     "output_type": "stream",
     "text": [
      "[100]\ttraining's auc: 0.766135\ttraining's binary_logloss: 0.247248\tvalid_1's auc: 0.753922\tvalid_1's binary_logloss: 0.249567\n",
      "[200]\ttraining's auc: 0.781825\ttraining's binary_logloss: 0.240309\tvalid_1's auc: 0.7644\tvalid_1's binary_logloss: 0.244861\n",
      "[300]\ttraining's auc: 0.791873\ttraining's binary_logloss: 0.236432\tvalid_1's auc: 0.769686\tvalid_1's binary_logloss: 0.242926\n",
      "[400]\ttraining's auc: 0.79932\ttraining's binary_logloss: 0.233708\tvalid_1's auc: 0.7722\tvalid_1's binary_logloss: 0.242042\n",
      "[500]\ttraining's auc: 0.805819\ttraining's binary_logloss: 0.231355\tvalid_1's auc: 0.774045\tvalid_1's binary_logloss: 0.241404\n",
      "| \u001b[0m 5       \u001b[0m | \u001b[0m 0.774   \u001b[0m | \u001b[0m 0.806   \u001b[0m | \u001b[0m 312.3   \u001b[0m | \u001b[0m 15.44   \u001b[0m | \u001b[0m 139.5   \u001b[0m | \u001b[0m 18.62   \u001b[0m | \u001b[0m 41.48   \u001b[0m | \u001b[0m 34.88   \u001b[0m | \u001b[0m 0.6032  \u001b[0m | \u001b[0m 0.8334  \u001b[0m |\n"
     ]
    },
    {
     "name": "stderr",
     "output_type": "stream",
     "text": [
      "/Users/chloe/opt/anaconda3/lib/python3.9/site-packages/lightgbm/sklearn.py:726: UserWarning: 'early_stopping_rounds' argument is deprecated and will be removed in a future release of LightGBM. Pass 'early_stopping()' callback via 'callbacks' argument instead.\n",
      "  _log_warning(\"'early_stopping_rounds' argument is deprecated and will be removed in a future release of LightGBM. \"\n",
      "/Users/chloe/opt/anaconda3/lib/python3.9/site-packages/lightgbm/sklearn.py:736: UserWarning: 'verbose' argument is deprecated and will be removed in a future release of LightGBM. Pass 'log_evaluation()' callback via 'callbacks' argument instead.\n",
      "  _log_warning(\"'verbose' argument is deprecated and will be removed in a future release of LightGBM. \"\n"
     ]
    },
    {
     "name": "stdout",
     "output_type": "stream",
     "text": [
      "[100]\ttraining's auc: 0.770439\ttraining's binary_logloss: 0.246587\tvalid_1's auc: 0.754679\tvalid_1's binary_logloss: 0.249647\n",
      "[200]\ttraining's auc: 0.786489\ttraining's binary_logloss: 0.239186\tvalid_1's auc: 0.764401\tvalid_1's binary_logloss: 0.245006\n",
      "[300]\ttraining's auc: 0.797238\ttraining's binary_logloss: 0.234967\tvalid_1's auc: 0.769533\tvalid_1's binary_logloss: 0.243115\n",
      "[400]\ttraining's auc: 0.805581\ttraining's binary_logloss: 0.231839\tvalid_1's auc: 0.772351\tvalid_1's binary_logloss: 0.242133\n",
      "[500]\ttraining's auc: 0.812758\ttraining's binary_logloss: 0.229145\tvalid_1's auc: 0.774174\tvalid_1's binary_logloss: 0.241493\n",
      "| \u001b[0m 6       \u001b[0m | \u001b[0m 0.7742  \u001b[0m | \u001b[0m 0.7214  \u001b[0m | \u001b[0m 488.6   \u001b[0m | \u001b[0m 13.29   \u001b[0m | \u001b[0m 182.2   \u001b[0m | \u001b[0m 1.521   \u001b[0m | \u001b[0m 57.64   \u001b[0m | \u001b[0m 41.28   \u001b[0m | \u001b[0m 4.601   \u001b[0m | \u001b[0m 0.6146  \u001b[0m |\n"
     ]
    },
    {
     "name": "stderr",
     "output_type": "stream",
     "text": [
      "/Users/chloe/opt/anaconda3/lib/python3.9/site-packages/lightgbm/sklearn.py:726: UserWarning: 'early_stopping_rounds' argument is deprecated and will be removed in a future release of LightGBM. Pass 'early_stopping()' callback via 'callbacks' argument instead.\n",
      "  _log_warning(\"'early_stopping_rounds' argument is deprecated and will be removed in a future release of LightGBM. \"\n",
      "/Users/chloe/opt/anaconda3/lib/python3.9/site-packages/lightgbm/sklearn.py:736: UserWarning: 'verbose' argument is deprecated and will be removed in a future release of LightGBM. Pass 'log_evaluation()' callback via 'callbacks' argument instead.\n",
      "  _log_warning(\"'verbose' argument is deprecated and will be removed in a future release of LightGBM. \"\n"
     ]
    },
    {
     "name": "stdout",
     "output_type": "stream",
     "text": [
      "[100]\ttraining's auc: 0.775879\ttraining's binary_logloss: 0.244395\tvalid_1's auc: 0.758721\tvalid_1's binary_logloss: 0.248081\n",
      "[200]\ttraining's auc: 0.794961\ttraining's binary_logloss: 0.235878\tvalid_1's auc: 0.768844\tvalid_1's binary_logloss: 0.243236\n",
      "[300]\ttraining's auc: 0.808871\ttraining's binary_logloss: 0.230495\tvalid_1's auc: 0.773391\tvalid_1's binary_logloss: 0.241532\n",
      "[400]\ttraining's auc: 0.820279\ttraining's binary_logloss: 0.226192\tvalid_1's auc: 0.775854\tvalid_1's binary_logloss: 0.240642\n",
      "[500]\ttraining's auc: 0.830194\ttraining's binary_logloss: 0.222463\tvalid_1's auc: 0.777347\tvalid_1's binary_logloss: 0.240109\n",
      "| \u001b[95m 7       \u001b[0m | \u001b[95m 0.7773  \u001b[0m | \u001b[95m 0.6269  \u001b[0m | \u001b[95m 437.7   \u001b[0m | \u001b[95m 10.07   \u001b[0m | \u001b[95m 156.5   \u001b[0m | \u001b[95m 22.14   \u001b[0m | \u001b[95m 48.87   \u001b[0m | \u001b[95m 2.432   \u001b[0m | \u001b[95m 7.948   \u001b[0m | \u001b[95m 0.8027  \u001b[0m |\n"
     ]
    },
    {
     "name": "stderr",
     "output_type": "stream",
     "text": [
      "/Users/chloe/opt/anaconda3/lib/python3.9/site-packages/lightgbm/sklearn.py:726: UserWarning: 'early_stopping_rounds' argument is deprecated and will be removed in a future release of LightGBM. Pass 'early_stopping()' callback via 'callbacks' argument instead.\n",
      "  _log_warning(\"'early_stopping_rounds' argument is deprecated and will be removed in a future release of LightGBM. \"\n",
      "/Users/chloe/opt/anaconda3/lib/python3.9/site-packages/lightgbm/sklearn.py:736: UserWarning: 'verbose' argument is deprecated and will be removed in a future release of LightGBM. Pass 'log_evaluation()' callback via 'callbacks' argument instead.\n",
      "  _log_warning(\"'verbose' argument is deprecated and will be removed in a future release of LightGBM. \"\n"
     ]
    },
    {
     "name": "stdout",
     "output_type": "stream",
     "text": [
      "[100]\ttraining's auc: 0.766314\ttraining's binary_logloss: 0.246998\tvalid_1's auc: 0.755906\tvalid_1's binary_logloss: 0.249009\n",
      "[200]\ttraining's auc: 0.782906\ttraining's binary_logloss: 0.239749\tvalid_1's auc: 0.766401\tvalid_1's binary_logloss: 0.244121\n",
      "[300]\ttraining's auc: 0.793527\ttraining's binary_logloss: 0.235656\tvalid_1's auc: 0.77108\tvalid_1's binary_logloss: 0.242321\n",
      "[400]\ttraining's auc: 0.801673\ttraining's binary_logloss: 0.232638\tvalid_1's auc: 0.773543\tvalid_1's binary_logloss: 0.241427\n",
      "[500]\ttraining's auc: 0.809076\ttraining's binary_logloss: 0.229969\tvalid_1's auc: 0.775569\tvalid_1's binary_logloss: 0.240742\n",
      "| \u001b[0m 8       \u001b[0m | \u001b[0m 0.7756  \u001b[0m | \u001b[0m 0.613   \u001b[0m | \u001b[0m 419.6   \u001b[0m | \u001b[0m 7.914   \u001b[0m | \u001b[0m 184.4   \u001b[0m | \u001b[0m 43.85   \u001b[0m | \u001b[0m 31.05   \u001b[0m | \u001b[0m 2.992   \u001b[0m | \u001b[0m 5.967   \u001b[0m | \u001b[0m 0.9756  \u001b[0m |\n"
     ]
    },
    {
     "name": "stderr",
     "output_type": "stream",
     "text": [
      "/Users/chloe/opt/anaconda3/lib/python3.9/site-packages/lightgbm/sklearn.py:726: UserWarning: 'early_stopping_rounds' argument is deprecated and will be removed in a future release of LightGBM. Pass 'early_stopping()' callback via 'callbacks' argument instead.\n",
      "  _log_warning(\"'early_stopping_rounds' argument is deprecated and will be removed in a future release of LightGBM. \"\n",
      "/Users/chloe/opt/anaconda3/lib/python3.9/site-packages/lightgbm/sklearn.py:736: UserWarning: 'verbose' argument is deprecated and will be removed in a future release of LightGBM. Pass 'log_evaluation()' callback via 'callbacks' argument instead.\n",
      "  _log_warning(\"'verbose' argument is deprecated and will be removed in a future release of LightGBM. \"\n"
     ]
    },
    {
     "name": "stdout",
     "output_type": "stream",
     "text": [
      "[100]\ttraining's auc: 0.78098\ttraining's binary_logloss: 0.242404\tvalid_1's auc: 0.759261\tvalid_1's binary_logloss: 0.247472\n",
      "[200]\ttraining's auc: 0.803413\ttraining's binary_logloss: 0.232877\tvalid_1's auc: 0.769667\tvalid_1's binary_logloss: 0.242881\n",
      "[300]\ttraining's auc: 0.820247\ttraining's binary_logloss: 0.226393\tvalid_1's auc: 0.774132\tvalid_1's binary_logloss: 0.241254\n",
      "[400]\ttraining's auc: 0.834488\ttraining's binary_logloss: 0.220965\tvalid_1's auc: 0.776386\tvalid_1's binary_logloss: 0.24046\n",
      "[500]\ttraining's auc: 0.846554\ttraining's binary_logloss: 0.216268\tvalid_1's auc: 0.77732\tvalid_1's binary_logloss: 0.240131\n",
      "| \u001b[0m 9       \u001b[0m | \u001b[0m 0.7773  \u001b[0m | \u001b[0m 0.7293  \u001b[0m | \u001b[0m 445.3   \u001b[0m | \u001b[0m 15.63   \u001b[0m | \u001b[0m 129.9   \u001b[0m | \u001b[0m 32.65   \u001b[0m | \u001b[0m 63.37   \u001b[0m | \u001b[0m 2.618   \u001b[0m | \u001b[0m 5.035   \u001b[0m | \u001b[0m 0.707   \u001b[0m |\n"
     ]
    },
    {
     "name": "stderr",
     "output_type": "stream",
     "text": [
      "/Users/chloe/opt/anaconda3/lib/python3.9/site-packages/lightgbm/sklearn.py:726: UserWarning: 'early_stopping_rounds' argument is deprecated and will be removed in a future release of LightGBM. Pass 'early_stopping()' callback via 'callbacks' argument instead.\n",
      "  _log_warning(\"'early_stopping_rounds' argument is deprecated and will be removed in a future release of LightGBM. \"\n",
      "/Users/chloe/opt/anaconda3/lib/python3.9/site-packages/lightgbm/sklearn.py:736: UserWarning: 'verbose' argument is deprecated and will be removed in a future release of LightGBM. Pass 'log_evaluation()' callback via 'callbacks' argument instead.\n",
      "  _log_warning(\"'verbose' argument is deprecated and will be removed in a future release of LightGBM. \"\n"
     ]
    },
    {
     "name": "stdout",
     "output_type": "stream",
     "text": [
      "[100]\ttraining's auc: 0.774312\ttraining's binary_logloss: 0.244604\tvalid_1's auc: 0.75636\tvalid_1's binary_logloss: 0.248517\n",
      "[200]\ttraining's auc: 0.79368\ttraining's binary_logloss: 0.236323\tvalid_1's auc: 0.767181\tvalid_1's binary_logloss: 0.243872\n",
      "[300]\ttraining's auc: 0.80704\ttraining's binary_logloss: 0.231169\tvalid_1's auc: 0.772147\tvalid_1's binary_logloss: 0.242078\n",
      "[400]\ttraining's auc: 0.817948\ttraining's binary_logloss: 0.227077\tvalid_1's auc: 0.774417\tvalid_1's binary_logloss: 0.241255\n",
      "[500]\ttraining's auc: 0.828034\ttraining's binary_logloss: 0.223311\tvalid_1's auc: 0.776211\tvalid_1's binary_logloss: 0.240637\n",
      "| \u001b[0m 10      \u001b[0m | \u001b[0m 0.7762  \u001b[0m | \u001b[0m 0.8039  \u001b[0m | \u001b[0m 416.1   \u001b[0m | \u001b[0m 13.74   \u001b[0m | \u001b[0m 128.4   \u001b[0m | \u001b[0m 1.951   \u001b[0m | \u001b[0m 60.25   \u001b[0m | \u001b[0m 16.36   \u001b[0m | \u001b[0m 8.629   \u001b[0m | \u001b[0m 0.5672  \u001b[0m |\n"
     ]
    },
    {
     "name": "stderr",
     "output_type": "stream",
     "text": [
      "/Users/chloe/opt/anaconda3/lib/python3.9/site-packages/lightgbm/sklearn.py:726: UserWarning: 'early_stopping_rounds' argument is deprecated and will be removed in a future release of LightGBM. Pass 'early_stopping()' callback via 'callbacks' argument instead.\n",
      "  _log_warning(\"'early_stopping_rounds' argument is deprecated and will be removed in a future release of LightGBM. \"\n",
      "/Users/chloe/opt/anaconda3/lib/python3.9/site-packages/lightgbm/sklearn.py:736: UserWarning: 'verbose' argument is deprecated and will be removed in a future release of LightGBM. Pass 'log_evaluation()' callback via 'callbacks' argument instead.\n",
      "  _log_warning(\"'verbose' argument is deprecated and will be removed in a future release of LightGBM. \"\n"
     ]
    },
    {
     "name": "stdout",
     "output_type": "stream",
     "text": [
      "[100]\ttraining's auc: 0.774312\ttraining's binary_logloss: 0.244504\tvalid_1's auc: 0.755825\tvalid_1's binary_logloss: 0.248613\n",
      "[200]\ttraining's auc: 0.794121\ttraining's binary_logloss: 0.236098\tvalid_1's auc: 0.767264\tvalid_1's binary_logloss: 0.243891\n",
      "[300]\ttraining's auc: 0.807631\ttraining's binary_logloss: 0.230906\tvalid_1's auc: 0.772205\tvalid_1's binary_logloss: 0.242133\n",
      "[400]\ttraining's auc: 0.818744\ttraining's binary_logloss: 0.226771\tvalid_1's auc: 0.774615\tvalid_1's binary_logloss: 0.241259\n",
      "[500]\ttraining's auc: 0.82878\ttraining's binary_logloss: 0.222992\tvalid_1's auc: 0.776244\tvalid_1's binary_logloss: 0.240682\n",
      "| \u001b[0m 11      \u001b[0m | \u001b[0m 0.7762  \u001b[0m | \u001b[0m 0.9924  \u001b[0m | \u001b[0m 410.1   \u001b[0m | \u001b[0m 15.39   \u001b[0m | \u001b[0m 126.6   \u001b[0m | \u001b[0m 10.44   \u001b[0m | \u001b[0m 61.35   \u001b[0m | \u001b[0m 17.28   \u001b[0m | \u001b[0m 9.367   \u001b[0m | \u001b[0m 0.7424  \u001b[0m |\n"
     ]
    },
    {
     "name": "stderr",
     "output_type": "stream",
     "text": [
      "/Users/chloe/opt/anaconda3/lib/python3.9/site-packages/lightgbm/sklearn.py:726: UserWarning: 'early_stopping_rounds' argument is deprecated and will be removed in a future release of LightGBM. Pass 'early_stopping()' callback via 'callbacks' argument instead.\n",
      "  _log_warning(\"'early_stopping_rounds' argument is deprecated and will be removed in a future release of LightGBM. \"\n",
      "/Users/chloe/opt/anaconda3/lib/python3.9/site-packages/lightgbm/sklearn.py:736: UserWarning: 'verbose' argument is deprecated and will be removed in a future release of LightGBM. Pass 'log_evaluation()' callback via 'callbacks' argument instead.\n",
      "  _log_warning(\"'verbose' argument is deprecated and will be removed in a future release of LightGBM. \"\n"
     ]
    },
    {
     "name": "stdout",
     "output_type": "stream",
     "text": [
      "[100]\ttraining's auc: 0.775431\ttraining's binary_logloss: 0.244341\tvalid_1's auc: 0.758722\tvalid_1's binary_logloss: 0.247964\n",
      "[200]\ttraining's auc: 0.794984\ttraining's binary_logloss: 0.23576\tvalid_1's auc: 0.769078\tvalid_1's binary_logloss: 0.243174\n",
      "[300]\ttraining's auc: 0.808803\ttraining's binary_logloss: 0.230387\tvalid_1's auc: 0.773505\tvalid_1's binary_logloss: 0.241457\n",
      "[400]\ttraining's auc: 0.820298\ttraining's binary_logloss: 0.226028\tvalid_1's auc: 0.776139\tvalid_1's binary_logloss: 0.240535\n",
      "[500]\ttraining's auc: 0.830162\ttraining's binary_logloss: 0.222372\tvalid_1's auc: 0.777281\tvalid_1's binary_logloss: 0.240118\n",
      "| \u001b[0m 12      \u001b[0m | \u001b[0m 0.7773  \u001b[0m | \u001b[0m 0.622   \u001b[0m | \u001b[0m 497.7   \u001b[0m | \u001b[0m 10.78   \u001b[0m | \u001b[0m 70.66   \u001b[0m | \u001b[0m 43.39   \u001b[0m | \u001b[0m 48.64   \u001b[0m | \u001b[0m 1.137   \u001b[0m | \u001b[0m 8.024   \u001b[0m | \u001b[0m 0.9837  \u001b[0m |\n"
     ]
    },
    {
     "name": "stderr",
     "output_type": "stream",
     "text": [
      "/Users/chloe/opt/anaconda3/lib/python3.9/site-packages/lightgbm/sklearn.py:726: UserWarning: 'early_stopping_rounds' argument is deprecated and will be removed in a future release of LightGBM. Pass 'early_stopping()' callback via 'callbacks' argument instead.\n",
      "  _log_warning(\"'early_stopping_rounds' argument is deprecated and will be removed in a future release of LightGBM. \"\n",
      "/Users/chloe/opt/anaconda3/lib/python3.9/site-packages/lightgbm/sklearn.py:736: UserWarning: 'verbose' argument is deprecated and will be removed in a future release of LightGBM. Pass 'log_evaluation()' callback via 'callbacks' argument instead.\n",
      "  _log_warning(\"'verbose' argument is deprecated and will be removed in a future release of LightGBM. \"\n"
     ]
    },
    {
     "name": "stdout",
     "output_type": "stream",
     "text": [
      "[100]\ttraining's auc: 0.776713\ttraining's binary_logloss: 0.245052\tvalid_1's auc: 0.758803\tvalid_1's binary_logloss: 0.248701\n",
      "[200]\ttraining's auc: 0.793283\ttraining's binary_logloss: 0.236854\tvalid_1's auc: 0.767627\tvalid_1's binary_logloss: 0.243884\n",
      "[300]\ttraining's auc: 0.805659\ttraining's binary_logloss: 0.231873\tvalid_1's auc: 0.772224\tvalid_1's binary_logloss: 0.24208\n",
      "[400]\ttraining's auc: 0.815797\ttraining's binary_logloss: 0.22804\tvalid_1's auc: 0.774481\tvalid_1's binary_logloss: 0.241244\n",
      "[500]\ttraining's auc: 0.825279\ttraining's binary_logloss: 0.224518\tvalid_1's auc: 0.776133\tvalid_1's binary_logloss: 0.240684\n",
      "| \u001b[0m 13      \u001b[0m | \u001b[0m 0.7761  \u001b[0m | \u001b[0m 0.5053  \u001b[0m | \u001b[0m 415.2   \u001b[0m | \u001b[0m 12.72   \u001b[0m | \u001b[0m 131.4   \u001b[0m | \u001b[0m 7.043   \u001b[0m | \u001b[0m 62.17   \u001b[0m | \u001b[0m 17.93   \u001b[0m | \u001b[0m 6.222   \u001b[0m | \u001b[0m 0.8907  \u001b[0m |\n"
     ]
    },
    {
     "name": "stderr",
     "output_type": "stream",
     "text": [
      "/Users/chloe/opt/anaconda3/lib/python3.9/site-packages/lightgbm/sklearn.py:726: UserWarning: 'early_stopping_rounds' argument is deprecated and will be removed in a future release of LightGBM. Pass 'early_stopping()' callback via 'callbacks' argument instead.\n",
      "  _log_warning(\"'early_stopping_rounds' argument is deprecated and will be removed in a future release of LightGBM. \"\n",
      "/Users/chloe/opt/anaconda3/lib/python3.9/site-packages/lightgbm/sklearn.py:736: UserWarning: 'verbose' argument is deprecated and will be removed in a future release of LightGBM. Pass 'log_evaluation()' callback via 'callbacks' argument instead.\n",
      "  _log_warning(\"'verbose' argument is deprecated and will be removed in a future release of LightGBM. \"\n"
     ]
    },
    {
     "name": "stdout",
     "output_type": "stream",
     "text": [
      "[100]\ttraining's auc: 0.777238\ttraining's binary_logloss: 0.243655\tvalid_1's auc: 0.758414\tvalid_1's binary_logloss: 0.247922\n",
      "[200]\ttraining's auc: 0.797806\ttraining's binary_logloss: 0.234774\tvalid_1's auc: 0.768722\tvalid_1's binary_logloss: 0.243263\n",
      "[300]\ttraining's auc: 0.812783\ttraining's binary_logloss: 0.229033\tvalid_1's auc: 0.772991\tvalid_1's binary_logloss: 0.241691\n",
      "[400]\ttraining's auc: 0.825499\ttraining's binary_logloss: 0.224258\tvalid_1's auc: 0.775631\tvalid_1's binary_logloss: 0.240774\n",
      "[500]\ttraining's auc: 0.836347\ttraining's binary_logloss: 0.22015\tvalid_1's auc: 0.777315\tvalid_1's binary_logloss: 0.240172\n",
      "| \u001b[0m 14      \u001b[0m | \u001b[0m 0.7773  \u001b[0m | \u001b[0m 0.7073  \u001b[0m | \u001b[0m 457.3   \u001b[0m | \u001b[0m 11.89   \u001b[0m | \u001b[0m 35.68   \u001b[0m | \u001b[0m 14.36   \u001b[0m | \u001b[0m 54.67   \u001b[0m | \u001b[0m 3.853   \u001b[0m | \u001b[0m 8.276   \u001b[0m | \u001b[0m 0.9112  \u001b[0m |\n"
     ]
    },
    {
     "name": "stderr",
     "output_type": "stream",
     "text": [
      "/Users/chloe/opt/anaconda3/lib/python3.9/site-packages/lightgbm/sklearn.py:726: UserWarning: 'early_stopping_rounds' argument is deprecated and will be removed in a future release of LightGBM. Pass 'early_stopping()' callback via 'callbacks' argument instead.\n",
      "  _log_warning(\"'early_stopping_rounds' argument is deprecated and will be removed in a future release of LightGBM. \"\n",
      "/Users/chloe/opt/anaconda3/lib/python3.9/site-packages/lightgbm/sklearn.py:736: UserWarning: 'verbose' argument is deprecated and will be removed in a future release of LightGBM. Pass 'log_evaluation()' callback via 'callbacks' argument instead.\n",
      "  _log_warning(\"'verbose' argument is deprecated and will be removed in a future release of LightGBM. \"\n"
     ]
    },
    {
     "name": "stdout",
     "output_type": "stream",
     "text": [
      "[100]\ttraining's auc: 0.770453\ttraining's binary_logloss: 0.245874\tvalid_1's auc: 0.756852\tvalid_1's binary_logloss: 0.248638\n",
      "[200]\ttraining's auc: 0.788331\ttraining's binary_logloss: 0.238077\tvalid_1's auc: 0.76768\tvalid_1's binary_logloss: 0.243748\n",
      "[300]\ttraining's auc: 0.800523\ttraining's binary_logloss: 0.233421\tvalid_1's auc: 0.772874\tvalid_1's binary_logloss: 0.24184\n",
      "[400]\ttraining's auc: 0.810157\ttraining's binary_logloss: 0.229838\tvalid_1's auc: 0.775407\tvalid_1's binary_logloss: 0.240937\n",
      "[500]\ttraining's auc: 0.818794\ttraining's binary_logloss: 0.226638\tvalid_1's auc: 0.777068\tvalid_1's binary_logloss: 0.240319\n",
      "| \u001b[0m 15      \u001b[0m | \u001b[0m 0.7771  \u001b[0m | \u001b[0m 0.6512  \u001b[0m | \u001b[0m 498.1   \u001b[0m | \u001b[0m 15.84   \u001b[0m | \u001b[0m 68.41   \u001b[0m | \u001b[0m 38.94   \u001b[0m | \u001b[0m 42.8    \u001b[0m | \u001b[0m 9.776   \u001b[0m | \u001b[0m 8.89    \u001b[0m | \u001b[0m 0.5139  \u001b[0m |\n"
     ]
    },
    {
     "name": "stderr",
     "output_type": "stream",
     "text": [
      "/Users/chloe/opt/anaconda3/lib/python3.9/site-packages/lightgbm/sklearn.py:726: UserWarning: 'early_stopping_rounds' argument is deprecated and will be removed in a future release of LightGBM. Pass 'early_stopping()' callback via 'callbacks' argument instead.\n",
      "  _log_warning(\"'early_stopping_rounds' argument is deprecated and will be removed in a future release of LightGBM. \"\n",
      "/Users/chloe/opt/anaconda3/lib/python3.9/site-packages/lightgbm/sklearn.py:736: UserWarning: 'verbose' argument is deprecated and will be removed in a future release of LightGBM. Pass 'log_evaluation()' callback via 'callbacks' argument instead.\n",
      "  _log_warning(\"'verbose' argument is deprecated and will be removed in a future release of LightGBM. \"\n"
     ]
    },
    {
     "name": "stdout",
     "output_type": "stream",
     "text": [
      "[100]\ttraining's auc: 0.77341\ttraining's binary_logloss: 0.245239\tvalid_1's auc: 0.755979\tvalid_1's binary_logloss: 0.248746\n",
      "[200]\ttraining's auc: 0.791421\ttraining's binary_logloss: 0.237453\tvalid_1's auc: 0.76664\tvalid_1's binary_logloss: 0.244083\n",
      "[300]\ttraining's auc: 0.802678\ttraining's binary_logloss: 0.232932\tvalid_1's auc: 0.771279\tvalid_1's binary_logloss: 0.242317\n",
      "[400]\ttraining's auc: 0.811391\ttraining's binary_logloss: 0.229561\tvalid_1's auc: 0.773415\tvalid_1's binary_logloss: 0.241533\n",
      "[500]\ttraining's auc: 0.819056\ttraining's binary_logloss: 0.22663\tvalid_1's auc: 0.774956\tvalid_1's binary_logloss: 0.240983\n",
      "| \u001b[0m 16      \u001b[0m | \u001b[0m 0.775   \u001b[0m | \u001b[0m 0.8225  \u001b[0m | \u001b[0m 418.7   \u001b[0m | \u001b[0m 6.561   \u001b[0m | \u001b[0m 125.2   \u001b[0m | \u001b[0m 1.872   \u001b[0m | \u001b[0m 61.34   \u001b[0m | \u001b[0m 18.91   \u001b[0m | \u001b[0m 5.198   \u001b[0m | \u001b[0m 0.7501  \u001b[0m |\n"
     ]
    },
    {
     "name": "stderr",
     "output_type": "stream",
     "text": [
      "/Users/chloe/opt/anaconda3/lib/python3.9/site-packages/lightgbm/sklearn.py:726: UserWarning: 'early_stopping_rounds' argument is deprecated and will be removed in a future release of LightGBM. Pass 'early_stopping()' callback via 'callbacks' argument instead.\n",
      "  _log_warning(\"'early_stopping_rounds' argument is deprecated and will be removed in a future release of LightGBM. \"\n",
      "/Users/chloe/opt/anaconda3/lib/python3.9/site-packages/lightgbm/sklearn.py:736: UserWarning: 'verbose' argument is deprecated and will be removed in a future release of LightGBM. Pass 'log_evaluation()' callback via 'callbacks' argument instead.\n",
      "  _log_warning(\"'verbose' argument is deprecated and will be removed in a future release of LightGBM. \"\n"
     ]
    },
    {
     "name": "stdout",
     "output_type": "stream",
     "text": [
      "[100]\ttraining's auc: 0.77386\ttraining's binary_logloss: 0.244778\tvalid_1's auc: 0.757287\tvalid_1's binary_logloss: 0.248361\n",
      "[200]\ttraining's auc: 0.792585\ttraining's binary_logloss: 0.236604\tvalid_1's auc: 0.767684\tvalid_1's binary_logloss: 0.24366\n",
      "[300]\ttraining's auc: 0.805441\ttraining's binary_logloss: 0.231652\tvalid_1's auc: 0.772212\tvalid_1's binary_logloss: 0.242009\n",
      "[400]\ttraining's auc: 0.816296\ttraining's binary_logloss: 0.227614\tvalid_1's auc: 0.774813\tvalid_1's binary_logloss: 0.241097\n",
      "[500]\ttraining's auc: 0.826026\ttraining's binary_logloss: 0.223991\tvalid_1's auc: 0.776472\tvalid_1's binary_logloss: 0.240536\n",
      "| \u001b[0m 17      \u001b[0m | \u001b[0m 0.7765  \u001b[0m | \u001b[0m 0.8049  \u001b[0m | \u001b[0m 433.0   \u001b[0m | \u001b[0m 13.17   \u001b[0m | \u001b[0m 160.0   \u001b[0m | \u001b[0m 20.51   \u001b[0m | \u001b[0m 52.54   \u001b[0m | \u001b[0m 13.09   \u001b[0m | \u001b[0m 6.148   \u001b[0m | \u001b[0m 0.901   \u001b[0m |\n"
     ]
    },
    {
     "name": "stderr",
     "output_type": "stream",
     "text": [
      "/Users/chloe/opt/anaconda3/lib/python3.9/site-packages/lightgbm/sklearn.py:726: UserWarning: 'early_stopping_rounds' argument is deprecated and will be removed in a future release of LightGBM. Pass 'early_stopping()' callback via 'callbacks' argument instead.\n",
      "  _log_warning(\"'early_stopping_rounds' argument is deprecated and will be removed in a future release of LightGBM. \"\n",
      "/Users/chloe/opt/anaconda3/lib/python3.9/site-packages/lightgbm/sklearn.py:736: UserWarning: 'verbose' argument is deprecated and will be removed in a future release of LightGBM. Pass 'log_evaluation()' callback via 'callbacks' argument instead.\n",
      "  _log_warning(\"'verbose' argument is deprecated and will be removed in a future release of LightGBM. \"\n"
     ]
    },
    {
     "name": "stdout",
     "output_type": "stream",
     "text": [
      "[100]\ttraining's auc: 0.78085\ttraining's binary_logloss: 0.242886\tvalid_1's auc: 0.759977\tvalid_1's binary_logloss: 0.247535\n",
      "[200]\ttraining's auc: 0.801735\ttraining's binary_logloss: 0.233515\tvalid_1's auc: 0.769908\tvalid_1's binary_logloss: 0.242763\n",
      "[300]\ttraining's auc: 0.817733\ttraining's binary_logloss: 0.227287\tvalid_1's auc: 0.774073\tvalid_1's binary_logloss: 0.241181\n",
      "[400]\ttraining's auc: 0.83141\ttraining's binary_logloss: 0.222034\tvalid_1's auc: 0.776654\tvalid_1's binary_logloss: 0.240259\n",
      "[500]\ttraining's auc: 0.843255\ttraining's binary_logloss: 0.217495\tvalid_1's auc: 0.777633\tvalid_1's binary_logloss: 0.239889\n",
      "| \u001b[95m 18      \u001b[0m | \u001b[95m 0.7776  \u001b[0m | \u001b[95m 0.6602  \u001b[0m | \u001b[95m 438.5   \u001b[0m | \u001b[95m 15.4    \u001b[0m | \u001b[95m 151.4   \u001b[0m | \u001b[95m 48.39   \u001b[0m | \u001b[95m 61.99   \u001b[0m | \u001b[95m 2.648   \u001b[0m | \u001b[95m 5.525   \u001b[0m | \u001b[95m 0.9571  \u001b[0m |\n"
     ]
    },
    {
     "name": "stderr",
     "output_type": "stream",
     "text": [
      "/Users/chloe/opt/anaconda3/lib/python3.9/site-packages/lightgbm/sklearn.py:726: UserWarning: 'early_stopping_rounds' argument is deprecated and will be removed in a future release of LightGBM. Pass 'early_stopping()' callback via 'callbacks' argument instead.\n",
      "  _log_warning(\"'early_stopping_rounds' argument is deprecated and will be removed in a future release of LightGBM. \"\n",
      "/Users/chloe/opt/anaconda3/lib/python3.9/site-packages/lightgbm/sklearn.py:736: UserWarning: 'verbose' argument is deprecated and will be removed in a future release of LightGBM. Pass 'log_evaluation()' callback via 'callbacks' argument instead.\n",
      "  _log_warning(\"'verbose' argument is deprecated and will be removed in a future release of LightGBM. \"\n"
     ]
    },
    {
     "name": "stdout",
     "output_type": "stream",
     "text": [
      "[100]\ttraining's auc: 0.775084\ttraining's binary_logloss: 0.243729\tvalid_1's auc: 0.757164\tvalid_1's binary_logloss: 0.247783\n",
      "[200]\ttraining's auc: 0.797413\ttraining's binary_logloss: 0.234752\tvalid_1's auc: 0.76887\tvalid_1's binary_logloss: 0.243066\n",
      "[300]\ttraining's auc: 0.812476\ttraining's binary_logloss: 0.22896\tvalid_1's auc: 0.773231\tvalid_1's binary_logloss: 0.24148\n",
      "[400]\ttraining's auc: 0.825107\ttraining's binary_logloss: 0.224276\tvalid_1's auc: 0.77599\tvalid_1's binary_logloss: 0.240573\n",
      "[500]\ttraining's auc: 0.835461\ttraining's binary_logloss: 0.220363\tvalid_1's auc: 0.776937\tvalid_1's binary_logloss: 0.240227\n",
      "| \u001b[0m 19      \u001b[0m | \u001b[0m 0.7769  \u001b[0m | \u001b[0m 0.9743  \u001b[0m | \u001b[0m 440.1   \u001b[0m | \u001b[0m 10.74   \u001b[0m | \u001b[0m 158.4   \u001b[0m | \u001b[0m 25.92   \u001b[0m | \u001b[0m 50.89   \u001b[0m | \u001b[0m 0.3118  \u001b[0m | \u001b[0m 8.606   \u001b[0m | \u001b[0m 0.5562  \u001b[0m |\n"
     ]
    },
    {
     "name": "stderr",
     "output_type": "stream",
     "text": [
      "/Users/chloe/opt/anaconda3/lib/python3.9/site-packages/lightgbm/sklearn.py:726: UserWarning: 'early_stopping_rounds' argument is deprecated and will be removed in a future release of LightGBM. Pass 'early_stopping()' callback via 'callbacks' argument instead.\n",
      "  _log_warning(\"'early_stopping_rounds' argument is deprecated and will be removed in a future release of LightGBM. \"\n",
      "/Users/chloe/opt/anaconda3/lib/python3.9/site-packages/lightgbm/sklearn.py:736: UserWarning: 'verbose' argument is deprecated and will be removed in a future release of LightGBM. Pass 'log_evaluation()' callback via 'callbacks' argument instead.\n",
      "  _log_warning(\"'verbose' argument is deprecated and will be removed in a future release of LightGBM. \"\n"
     ]
    },
    {
     "name": "stdout",
     "output_type": "stream",
     "text": [
      "[100]\ttraining's auc: 0.777977\ttraining's binary_logloss: 0.243586\tvalid_1's auc: 0.75945\tvalid_1's binary_logloss: 0.247794\n",
      "[200]\ttraining's auc: 0.79842\ttraining's binary_logloss: 0.234606\tvalid_1's auc: 0.769295\tvalid_1's binary_logloss: 0.24308\n",
      "[300]\ttraining's auc: 0.81335\ttraining's binary_logloss: 0.228821\tvalid_1's auc: 0.773648\tvalid_1's binary_logloss: 0.241462\n",
      "[400]\ttraining's auc: 0.826328\ttraining's binary_logloss: 0.223963\tvalid_1's auc: 0.776129\tvalid_1's binary_logloss: 0.240575\n",
      "[500]\ttraining's auc: 0.837185\ttraining's binary_logloss: 0.219807\tvalid_1's auc: 0.777343\tvalid_1's binary_logloss: 0.240153\n",
      "| \u001b[0m 20      \u001b[0m | \u001b[0m 0.7773  \u001b[0m | \u001b[0m 0.6416  \u001b[0m | \u001b[0m 428.1   \u001b[0m | \u001b[0m 13.21   \u001b[0m | \u001b[0m 138.1   \u001b[0m | \u001b[0m 24.62   \u001b[0m | \u001b[0m 53.08   \u001b[0m | \u001b[0m 2.327   \u001b[0m | \u001b[0m 3.747   \u001b[0m | \u001b[0m 0.9107  \u001b[0m |\n"
     ]
    },
    {
     "name": "stderr",
     "output_type": "stream",
     "text": [
      "/Users/chloe/opt/anaconda3/lib/python3.9/site-packages/lightgbm/sklearn.py:726: UserWarning: 'early_stopping_rounds' argument is deprecated and will be removed in a future release of LightGBM. Pass 'early_stopping()' callback via 'callbacks' argument instead.\n",
      "  _log_warning(\"'early_stopping_rounds' argument is deprecated and will be removed in a future release of LightGBM. \"\n",
      "/Users/chloe/opt/anaconda3/lib/python3.9/site-packages/lightgbm/sklearn.py:736: UserWarning: 'verbose' argument is deprecated and will be removed in a future release of LightGBM. Pass 'log_evaluation()' callback via 'callbacks' argument instead.\n",
      "  _log_warning(\"'verbose' argument is deprecated and will be removed in a future release of LightGBM. \"\n"
     ]
    },
    {
     "name": "stdout",
     "output_type": "stream",
     "text": [
      "[100]\ttraining's auc: 0.779709\ttraining's binary_logloss: 0.242618\tvalid_1's auc: 0.75925\tvalid_1's binary_logloss: 0.247489\n",
      "[200]\ttraining's auc: 0.802469\ttraining's binary_logloss: 0.233093\tvalid_1's auc: 0.769449\tvalid_1's binary_logloss: 0.242906\n",
      "[300]\ttraining's auc: 0.819791\ttraining's binary_logloss: 0.226594\tvalid_1's auc: 0.773905\tvalid_1's binary_logloss: 0.24126\n",
      "[400]\ttraining's auc: 0.834064\ttraining's binary_logloss: 0.221224\tvalid_1's auc: 0.775927\tvalid_1's binary_logloss: 0.240533\n",
      "[500]\ttraining's auc: 0.846226\ttraining's binary_logloss: 0.216637\tvalid_1's auc: 0.776871\tvalid_1's binary_logloss: 0.240202\n",
      "| \u001b[0m 21      \u001b[0m | \u001b[0m 0.7769  \u001b[0m | \u001b[0m 0.7408  \u001b[0m | \u001b[0m 443.9   \u001b[0m | \u001b[0m 15.91   \u001b[0m | \u001b[0m 143.3   \u001b[0m | \u001b[0m 14.16   \u001b[0m | \u001b[0m 54.3    \u001b[0m | \u001b[0m 0.8651  \u001b[0m | \u001b[0m 0.6161  \u001b[0m | \u001b[0m 0.8543  \u001b[0m |\n"
     ]
    },
    {
     "name": "stderr",
     "output_type": "stream",
     "text": [
      "/Users/chloe/opt/anaconda3/lib/python3.9/site-packages/lightgbm/sklearn.py:726: UserWarning: 'early_stopping_rounds' argument is deprecated and will be removed in a future release of LightGBM. Pass 'early_stopping()' callback via 'callbacks' argument instead.\n",
      "  _log_warning(\"'early_stopping_rounds' argument is deprecated and will be removed in a future release of LightGBM. \"\n",
      "/Users/chloe/opt/anaconda3/lib/python3.9/site-packages/lightgbm/sklearn.py:736: UserWarning: 'verbose' argument is deprecated and will be removed in a future release of LightGBM. Pass 'log_evaluation()' callback via 'callbacks' argument instead.\n",
      "  _log_warning(\"'verbose' argument is deprecated and will be removed in a future release of LightGBM. \"\n"
     ]
    },
    {
     "name": "stdout",
     "output_type": "stream",
     "text": [
      "[100]\ttraining's auc: 0.774476\ttraining's binary_logloss: 0.244579\tvalid_1's auc: 0.757684\tvalid_1's binary_logloss: 0.248165\n",
      "[200]\ttraining's auc: 0.792983\ttraining's binary_logloss: 0.236393\tvalid_1's auc: 0.767951\tvalid_1's binary_logloss: 0.243465\n",
      "[300]\ttraining's auc: 0.805925\ttraining's binary_logloss: 0.23139\tvalid_1's auc: 0.772587\tvalid_1's binary_logloss: 0.241761\n",
      "[400]\ttraining's auc: 0.816667\ttraining's binary_logloss: 0.227376\tvalid_1's auc: 0.774955\tvalid_1's binary_logloss: 0.240932\n",
      "[500]\ttraining's auc: 0.826274\ttraining's binary_logloss: 0.223791\tvalid_1's auc: 0.776634\tvalid_1's binary_logloss: 0.240344\n",
      "| \u001b[0m 22      \u001b[0m | \u001b[0m 0.7766  \u001b[0m | \u001b[0m 0.6861  \u001b[0m | \u001b[0m 443.4   \u001b[0m | \u001b[0m 9.642   \u001b[0m | \u001b[0m 142.9   \u001b[0m | \u001b[0m 47.75   \u001b[0m | \u001b[0m 49.46   \u001b[0m | \u001b[0m 7.697   \u001b[0m | \u001b[0m 1.186   \u001b[0m | \u001b[0m 0.6589  \u001b[0m |\n"
     ]
    },
    {
     "name": "stderr",
     "output_type": "stream",
     "text": [
      "/Users/chloe/opt/anaconda3/lib/python3.9/site-packages/lightgbm/sklearn.py:726: UserWarning: 'early_stopping_rounds' argument is deprecated and will be removed in a future release of LightGBM. Pass 'early_stopping()' callback via 'callbacks' argument instead.\n",
      "  _log_warning(\"'early_stopping_rounds' argument is deprecated and will be removed in a future release of LightGBM. \"\n",
      "/Users/chloe/opt/anaconda3/lib/python3.9/site-packages/lightgbm/sklearn.py:736: UserWarning: 'verbose' argument is deprecated and will be removed in a future release of LightGBM. Pass 'log_evaluation()' callback via 'callbacks' argument instead.\n",
      "  _log_warning(\"'verbose' argument is deprecated and will be removed in a future release of LightGBM. \"\n"
     ]
    },
    {
     "name": "stdout",
     "output_type": "stream",
     "text": [
      "[100]\ttraining's auc: 0.778487\ttraining's binary_logloss: 0.24286\tvalid_1's auc: 0.757973\tvalid_1's binary_logloss: 0.247651\n",
      "[200]\ttraining's auc: 0.800987\ttraining's binary_logloss: 0.233558\tvalid_1's auc: 0.769224\tvalid_1's binary_logloss: 0.242993\n",
      "[300]\ttraining's auc: 0.817079\ttraining's binary_logloss: 0.227416\tvalid_1's auc: 0.773486\tvalid_1's binary_logloss: 0.24148\n",
      "[400]\ttraining's auc: 0.830706\ttraining's binary_logloss: 0.222223\tvalid_1's auc: 0.776108\tvalid_1's binary_logloss: 0.240558\n",
      "[500]\ttraining's auc: 0.842467\ttraining's binary_logloss: 0.217763\tvalid_1's auc: 0.777168\tvalid_1's binary_logloss: 0.240173\n",
      "| \u001b[0m 23      \u001b[0m | \u001b[0m 0.7772  \u001b[0m | \u001b[0m 0.9454  \u001b[0m | \u001b[0m 479.7   \u001b[0m | \u001b[0m 12.77   \u001b[0m | \u001b[0m 41.53   \u001b[0m | \u001b[0m 29.49   \u001b[0m | \u001b[0m 59.85   \u001b[0m | \u001b[0m 5.279   \u001b[0m | \u001b[0m 3.318   \u001b[0m | \u001b[0m 0.6521  \u001b[0m |\n"
     ]
    },
    {
     "name": "stderr",
     "output_type": "stream",
     "text": [
      "/Users/chloe/opt/anaconda3/lib/python3.9/site-packages/lightgbm/sklearn.py:726: UserWarning: 'early_stopping_rounds' argument is deprecated and will be removed in a future release of LightGBM. Pass 'early_stopping()' callback via 'callbacks' argument instead.\n",
      "  _log_warning(\"'early_stopping_rounds' argument is deprecated and will be removed in a future release of LightGBM. \"\n",
      "/Users/chloe/opt/anaconda3/lib/python3.9/site-packages/lightgbm/sklearn.py:736: UserWarning: 'verbose' argument is deprecated and will be removed in a future release of LightGBM. Pass 'log_evaluation()' callback via 'callbacks' argument instead.\n",
      "  _log_warning(\"'verbose' argument is deprecated and will be removed in a future release of LightGBM. \"\n"
     ]
    },
    {
     "name": "stdout",
     "output_type": "stream",
     "text": [
      "[100]\ttraining's auc: 0.774475\ttraining's binary_logloss: 0.244433\tvalid_1's auc: 0.757648\tvalid_1's binary_logloss: 0.248161\n",
      "[200]\ttraining's auc: 0.793114\ttraining's binary_logloss: 0.236371\tvalid_1's auc: 0.767894\tvalid_1's binary_logloss: 0.243552\n",
      "[300]\ttraining's auc: 0.805464\ttraining's binary_logloss: 0.231522\tvalid_1's auc: 0.772303\tvalid_1's binary_logloss: 0.241926\n",
      "[400]\ttraining's auc: 0.815564\ttraining's binary_logloss: 0.227695\tvalid_1's auc: 0.774663\tvalid_1's binary_logloss: 0.241108\n",
      "[500]\ttraining's auc: 0.824748\ttraining's binary_logloss: 0.224313\tvalid_1's auc: 0.776125\tvalid_1's binary_logloss: 0.240619\n",
      "| \u001b[0m 24      \u001b[0m | \u001b[0m 0.7761  \u001b[0m | \u001b[0m 0.7125  \u001b[0m | \u001b[0m 461.4   \u001b[0m | \u001b[0m 8.193   \u001b[0m | \u001b[0m 53.73   \u001b[0m | \u001b[0m 26.12   \u001b[0m | \u001b[0m 51.01   \u001b[0m | \u001b[0m 8.932   \u001b[0m | \u001b[0m 0.104   \u001b[0m | \u001b[0m 0.5357  \u001b[0m |\n"
     ]
    },
    {
     "name": "stderr",
     "output_type": "stream",
     "text": [
      "/Users/chloe/opt/anaconda3/lib/python3.9/site-packages/lightgbm/sklearn.py:726: UserWarning: 'early_stopping_rounds' argument is deprecated and will be removed in a future release of LightGBM. Pass 'early_stopping()' callback via 'callbacks' argument instead.\n",
      "  _log_warning(\"'early_stopping_rounds' argument is deprecated and will be removed in a future release of LightGBM. \"\n",
      "/Users/chloe/opt/anaconda3/lib/python3.9/site-packages/lightgbm/sklearn.py:736: UserWarning: 'verbose' argument is deprecated and will be removed in a future release of LightGBM. Pass 'log_evaluation()' callback via 'callbacks' argument instead.\n",
      "  _log_warning(\"'verbose' argument is deprecated and will be removed in a future release of LightGBM. \"\n"
     ]
    },
    {
     "name": "stdout",
     "output_type": "stream",
     "text": [
      "[100]\ttraining's auc: 0.7812\ttraining's binary_logloss: 0.24213\tvalid_1's auc: 0.75926\tvalid_1's binary_logloss: 0.247279\n",
      "[200]\ttraining's auc: 0.804503\ttraining's binary_logloss: 0.232378\tvalid_1's auc: 0.769879\tvalid_1's binary_logloss: 0.242753\n",
      "[300]\ttraining's auc: 0.821556\ttraining's binary_logloss: 0.225764\tvalid_1's auc: 0.77421\tvalid_1's binary_logloss: 0.241194\n",
      "[400]\ttraining's auc: 0.835767\ttraining's binary_logloss: 0.220302\tvalid_1's auc: 0.776371\tvalid_1's binary_logloss: 0.240432\n",
      "[500]\ttraining's auc: 0.847658\ttraining's binary_logloss: 0.215691\tvalid_1's auc: 0.777246\tvalid_1's binary_logloss: 0.240129\n",
      "| \u001b[0m 25      \u001b[0m | \u001b[0m 0.7772  \u001b[0m | \u001b[0m 0.8755  \u001b[0m | \u001b[0m 426.7   \u001b[0m | \u001b[0m 13.47   \u001b[0m | \u001b[0m 140.1   \u001b[0m | \u001b[0m 39.08   \u001b[0m | \u001b[0m 63.44   \u001b[0m | \u001b[0m 1.325   \u001b[0m | \u001b[0m 4.077   \u001b[0m | \u001b[0m 0.5174  \u001b[0m |\n"
     ]
    },
    {
     "name": "stderr",
     "output_type": "stream",
     "text": [
      "/Users/chloe/opt/anaconda3/lib/python3.9/site-packages/lightgbm/sklearn.py:726: UserWarning: 'early_stopping_rounds' argument is deprecated and will be removed in a future release of LightGBM. Pass 'early_stopping()' callback via 'callbacks' argument instead.\n",
      "  _log_warning(\"'early_stopping_rounds' argument is deprecated and will be removed in a future release of LightGBM. \"\n",
      "/Users/chloe/opt/anaconda3/lib/python3.9/site-packages/lightgbm/sklearn.py:736: UserWarning: 'verbose' argument is deprecated and will be removed in a future release of LightGBM. Pass 'log_evaluation()' callback via 'callbacks' argument instead.\n",
      "  _log_warning(\"'verbose' argument is deprecated and will be removed in a future release of LightGBM. \"\n"
     ]
    },
    {
     "name": "stdout",
     "output_type": "stream",
     "text": [
      "[100]\ttraining's auc: 0.774693\ttraining's binary_logloss: 0.244437\tvalid_1's auc: 0.758155\tvalid_1's binary_logloss: 0.248061\n",
      "[200]\ttraining's auc: 0.793825\ttraining's binary_logloss: 0.236161\tvalid_1's auc: 0.768486\tvalid_1's binary_logloss: 0.243374\n",
      "[300]\ttraining's auc: 0.806909\ttraining's binary_logloss: 0.231046\tvalid_1's auc: 0.772907\tvalid_1's binary_logloss: 0.241705\n",
      "[400]\ttraining's auc: 0.817538\ttraining's binary_logloss: 0.227001\tvalid_1's auc: 0.77532\tvalid_1's binary_logloss: 0.240862\n",
      "[500]\ttraining's auc: 0.826923\ttraining's binary_logloss: 0.223504\tvalid_1's auc: 0.776833\tvalid_1's binary_logloss: 0.240331\n",
      "| \u001b[0m 26      \u001b[0m | \u001b[0m 0.7768  \u001b[0m | \u001b[0m 0.6977  \u001b[0m | \u001b[0m 469.9   \u001b[0m | \u001b[0m 8.59    \u001b[0m | \u001b[0m 19.46   \u001b[0m | \u001b[0m 31.14   \u001b[0m | \u001b[0m 49.08   \u001b[0m | \u001b[0m 4.494   \u001b[0m | \u001b[0m 6.626   \u001b[0m | \u001b[0m 0.8361  \u001b[0m |\n"
     ]
    },
    {
     "name": "stderr",
     "output_type": "stream",
     "text": [
      "/Users/chloe/opt/anaconda3/lib/python3.9/site-packages/lightgbm/sklearn.py:726: UserWarning: 'early_stopping_rounds' argument is deprecated and will be removed in a future release of LightGBM. Pass 'early_stopping()' callback via 'callbacks' argument instead.\n",
      "  _log_warning(\"'early_stopping_rounds' argument is deprecated and will be removed in a future release of LightGBM. \"\n",
      "/Users/chloe/opt/anaconda3/lib/python3.9/site-packages/lightgbm/sklearn.py:736: UserWarning: 'verbose' argument is deprecated and will be removed in a future release of LightGBM. Pass 'log_evaluation()' callback via 'callbacks' argument instead.\n",
      "  _log_warning(\"'verbose' argument is deprecated and will be removed in a future release of LightGBM. \"\n"
     ]
    },
    {
     "name": "stdout",
     "output_type": "stream",
     "text": [
      "[100]\ttraining's auc: 0.778045\ttraining's binary_logloss: 0.244055\tvalid_1's auc: 0.759044\tvalid_1's binary_logloss: 0.248226\n",
      "[200]\ttraining's auc: 0.796233\ttraining's binary_logloss: 0.235667\tvalid_1's auc: 0.768474\tvalid_1's binary_logloss: 0.243536\n",
      "[300]\ttraining's auc: 0.809053\ttraining's binary_logloss: 0.230515\tvalid_1's auc: 0.773128\tvalid_1's binary_logloss: 0.241752\n",
      "[400]\ttraining's auc: 0.819448\ttraining's binary_logloss: 0.226472\tvalid_1's auc: 0.775171\tvalid_1's binary_logloss: 0.241002\n",
      "[500]\ttraining's auc: 0.829235\ttraining's binary_logloss: 0.2228\tvalid_1's auc: 0.776411\tvalid_1's binary_logloss: 0.24056\n",
      "| \u001b[0m 27      \u001b[0m | \u001b[0m 0.7764  \u001b[0m | \u001b[0m 0.5896  \u001b[0m | \u001b[0m 476.9   \u001b[0m | \u001b[0m 7.579   \u001b[0m | \u001b[0m 26.19   \u001b[0m | \u001b[0m 3.957   \u001b[0m | \u001b[0m 63.91   \u001b[0m | \u001b[0m 13.22   \u001b[0m | \u001b[0m 1.491   \u001b[0m | \u001b[0m 0.9085  \u001b[0m |\n"
     ]
    },
    {
     "name": "stderr",
     "output_type": "stream",
     "text": [
      "/Users/chloe/opt/anaconda3/lib/python3.9/site-packages/lightgbm/sklearn.py:726: UserWarning: 'early_stopping_rounds' argument is deprecated and will be removed in a future release of LightGBM. Pass 'early_stopping()' callback via 'callbacks' argument instead.\n",
      "  _log_warning(\"'early_stopping_rounds' argument is deprecated and will be removed in a future release of LightGBM. \"\n",
      "/Users/chloe/opt/anaconda3/lib/python3.9/site-packages/lightgbm/sklearn.py:736: UserWarning: 'verbose' argument is deprecated and will be removed in a future release of LightGBM. Pass 'log_evaluation()' callback via 'callbacks' argument instead.\n",
      "  _log_warning(\"'verbose' argument is deprecated and will be removed in a future release of LightGBM. \"\n"
     ]
    },
    {
     "name": "stdout",
     "output_type": "stream",
     "text": [
      "[100]\ttraining's auc: 0.771861\ttraining's binary_logloss: 0.244863\tvalid_1's auc: 0.757265\tvalid_1's binary_logloss: 0.248069\n",
      "[200]\ttraining's auc: 0.791359\ttraining's binary_logloss: 0.236792\tvalid_1's auc: 0.768042\tvalid_1's binary_logloss: 0.243445\n",
      "[300]\ttraining's auc: 0.80466\ttraining's binary_logloss: 0.231733\tvalid_1's auc: 0.772717\tvalid_1's binary_logloss: 0.241718\n",
      "[400]\ttraining's auc: 0.815551\ttraining's binary_logloss: 0.227692\tvalid_1's auc: 0.77547\tvalid_1's binary_logloss: 0.240779\n",
      "[500]\ttraining's auc: 0.824795\ttraining's binary_logloss: 0.224284\tvalid_1's auc: 0.776971\tvalid_1's binary_logloss: 0.240268\n",
      "| \u001b[0m 28      \u001b[0m | \u001b[0m 0.777   \u001b[0m | \u001b[0m 0.7844  \u001b[0m | \u001b[0m 497.8   \u001b[0m | \u001b[0m 11.24   \u001b[0m | \u001b[0m 48.74   \u001b[0m | \u001b[0m 41.13   \u001b[0m | \u001b[0m 41.77   \u001b[0m | \u001b[0m 1.772   \u001b[0m | \u001b[0m 4.538   \u001b[0m | \u001b[0m 0.9283  \u001b[0m |\n"
     ]
    },
    {
     "name": "stderr",
     "output_type": "stream",
     "text": [
      "/Users/chloe/opt/anaconda3/lib/python3.9/site-packages/lightgbm/sklearn.py:726: UserWarning: 'early_stopping_rounds' argument is deprecated and will be removed in a future release of LightGBM. Pass 'early_stopping()' callback via 'callbacks' argument instead.\n",
      "  _log_warning(\"'early_stopping_rounds' argument is deprecated and will be removed in a future release of LightGBM. \"\n",
      "/Users/chloe/opt/anaconda3/lib/python3.9/site-packages/lightgbm/sklearn.py:736: UserWarning: 'verbose' argument is deprecated and will be removed in a future release of LightGBM. Pass 'log_evaluation()' callback via 'callbacks' argument instead.\n",
      "  _log_warning(\"'verbose' argument is deprecated and will be removed in a future release of LightGBM. \"\n"
     ]
    },
    {
     "name": "stdout",
     "output_type": "stream",
     "text": [
      "[100]\ttraining's auc: 0.778787\ttraining's binary_logloss: 0.243316\tvalid_1's auc: 0.759673\tvalid_1's binary_logloss: 0.247687\n",
      "[200]\ttraining's auc: 0.798839\ttraining's binary_logloss: 0.234367\tvalid_1's auc: 0.769386\tvalid_1's binary_logloss: 0.24303\n",
      "[300]\ttraining's auc: 0.814555\ttraining's binary_logloss: 0.228362\tvalid_1's auc: 0.773898\tvalid_1's binary_logloss: 0.241323\n",
      "[400]\ttraining's auc: 0.827583\ttraining's binary_logloss: 0.223427\tvalid_1's auc: 0.776396\tvalid_1's binary_logloss: 0.240454\n",
      "[500]\ttraining's auc: 0.838887\ttraining's binary_logloss: 0.21912\tvalid_1's auc: 0.777674\tvalid_1's binary_logloss: 0.239993\n",
      "| \u001b[95m 29      \u001b[0m | \u001b[95m 0.7777  \u001b[0m | \u001b[95m 0.6173  \u001b[0m | \u001b[95m 499.4   \u001b[0m | \u001b[95m 13.45   \u001b[0m | \u001b[95m 60.94   \u001b[0m | \u001b[95m 23.23   \u001b[0m | \u001b[95m 56.33   \u001b[0m | \u001b[95m 4.316   \u001b[0m | \u001b[95m 2.0     \u001b[0m | \u001b[95m 0.6298  \u001b[0m |\n"
     ]
    },
    {
     "name": "stderr",
     "output_type": "stream",
     "text": [
      "/Users/chloe/opt/anaconda3/lib/python3.9/site-packages/lightgbm/sklearn.py:726: UserWarning: 'early_stopping_rounds' argument is deprecated and will be removed in a future release of LightGBM. Pass 'early_stopping()' callback via 'callbacks' argument instead.\n",
      "  _log_warning(\"'early_stopping_rounds' argument is deprecated and will be removed in a future release of LightGBM. \"\n",
      "/Users/chloe/opt/anaconda3/lib/python3.9/site-packages/lightgbm/sklearn.py:736: UserWarning: 'verbose' argument is deprecated and will be removed in a future release of LightGBM. Pass 'log_evaluation()' callback via 'callbacks' argument instead.\n",
      "  _log_warning(\"'verbose' argument is deprecated and will be removed in a future release of LightGBM. \"\n"
     ]
    },
    {
     "name": "stdout",
     "output_type": "stream",
     "text": [
      "[100]\ttraining's auc: 0.774989\ttraining's binary_logloss: 0.244873\tvalid_1's auc: 0.7579\tvalid_1's binary_logloss: 0.248484\n",
      "[200]\ttraining's auc: 0.792792\ttraining's binary_logloss: 0.236701\tvalid_1's auc: 0.767601\tvalid_1's binary_logloss: 0.243744\n",
      "[300]\ttraining's auc: 0.806074\ttraining's binary_logloss: 0.231522\tvalid_1's auc: 0.772761\tvalid_1's binary_logloss: 0.241832\n",
      "[400]\ttraining's auc: 0.816895\ttraining's binary_logloss: 0.227504\tvalid_1's auc: 0.775096\tvalid_1's binary_logloss: 0.240998\n",
      "[500]\ttraining's auc: 0.826579\ttraining's binary_logloss: 0.22387\tvalid_1's auc: 0.776779\tvalid_1's binary_logloss: 0.240405\n",
      "| \u001b[0m 30      \u001b[0m | \u001b[0m 0.7768  \u001b[0m | \u001b[0m 0.6016  \u001b[0m | \u001b[0m 498.3   \u001b[0m | \u001b[0m 14.95   \u001b[0m | \u001b[0m 45.87   \u001b[0m | \u001b[0m 23.19   \u001b[0m | \u001b[0m 55.85   \u001b[0m | \u001b[0m 12.81   \u001b[0m | \u001b[0m 8.804   \u001b[0m | \u001b[0m 0.9214  \u001b[0m |\n",
      "=====================================================================================================================================\n"
     ]
    }
   ],
   "source": [
    "#  Create Bayesian Optimization by setting the function to perform the object and the parameter range to search.\n",
    "lgbBO = BayesianOptimization(lgb_roc_eval,bayesian_params , random_state=0)\n",
    "# Perform etherification to infer the input value whose function return value is maximum.\n",
    "lgbBO.maximize(init_points=5, n_iter=25)"
   ]
  },
  {
   "cell_type": "markdown",
   "metadata": {
    "colab_type": "text",
    "id": "2L3qCmiXvR5a"
   },
   "source": [
    "# Output of the Iteration action result"
   ]
  },
  {
   "cell_type": "code",
   "execution_count": 13,
   "metadata": {
    "colab": {},
    "colab_type": "code",
    "id": "DinJ-PaxvR5c"
   },
   "outputs": [
    {
     "data": {
      "text/plain": [
       "[{'target': 0.7754019849993636,\n",
       "  'params': {'colsample_bytree': 0.7744067519636624,\n",
       "   'max_bin': 360.44278952248555,\n",
       "   'max_depth': 12.027633760716439,\n",
       "   'min_child_samples': 113.52780476941041,\n",
       "   'min_child_weight': 21.75908516760633,\n",
       "   'num_leaves': 49.835764522666246,\n",
       "   'reg_alpha': 21.884984691022,\n",
       "   'reg_lambda': 8.917838234820016,\n",
       "   'subsample': 0.9818313802505146}},\n",
       " {'target': 0.7756649587625722,\n",
       "  'params': {'colsample_bytree': 0.6917207594128889,\n",
       "   'max_bin': 397.94526866050563,\n",
       "   'max_depth': 11.288949197529044,\n",
       "   'min_child_samples': 117.92846660784714,\n",
       "   'min_child_weight': 46.35423527634039,\n",
       "   'num_leaves': 26.841442327915477,\n",
       "   'reg_alpha': 4.36559369208002,\n",
       "   'reg_lambda': 0.20316375600581688,\n",
       "   'subsample': 0.916309922773969}},\n",
       " {'target': 0.7773337907658435,\n",
       "  'params': {'colsample_bytree': 0.8890783754749252,\n",
       "   'max_bin': 436.30595264094137,\n",
       "   'max_depth': 15.78618342232764,\n",
       "   'min_child_samples': 161.8401272011775,\n",
       "   'min_child_weight': 23.61248875039366,\n",
       "   'num_leaves': 55.22116705145822,\n",
       "   'reg_alpha': 5.922538549187972,\n",
       "   'reg_lambda': 6.3995702922539115,\n",
       "   'subsample': 0.5716766437045232}},\n",
       " {'target': 0.7743404274231133,\n",
       "  'params': {'colsample_bytree': 0.972334458524792,\n",
       "   'max_bin': 265.70567765753515,\n",
       "   'max_depth': 10.146619399905235,\n",
       "   'min_child_samples': 60.265566299879126,\n",
       "   'min_child_weight': 38.93745078227661,\n",
       "   'num_leaves': 42.24601328866194,\n",
       "   'reg_alpha': 28.426013103943742,\n",
       "   'reg_lambda': 0.18887921456311507,\n",
       "   'subsample': 0.8088177485379385}},\n",
       " {'target': 0.7740445759828272,\n",
       "  'params': {'colsample_bytree': 0.8060478613612108,\n",
       "   'max_bin': 312.2976584686309,\n",
       "   'max_depth': 15.437480785146242,\n",
       "   'min_child_samples': 139.54585682966186,\n",
       "   'min_child_weight': 18.615887128115514,\n",
       "   'num_leaves': 41.481278151973655,\n",
       "   'reg_alpha': 34.88458348440397,\n",
       "   'reg_lambda': 0.6031944908210691,\n",
       "   'subsample': 0.8333833577228338}},\n",
       " {'target': 0.7741741249590283,\n",
       "  'params': {'colsample_bytree': 0.7213577583391229,\n",
       "   'max_bin': 488.5642004925872,\n",
       "   'max_depth': 13.285909175751797,\n",
       "   'min_child_samples': 182.18478829417856,\n",
       "   'min_child_weight': 1.520755919924015,\n",
       "   'num_leaves': 57.64003630901371,\n",
       "   'reg_alpha': 41.28464839998104,\n",
       "   'reg_lambda': 4.600740176520657,\n",
       "   'subsample': 0.6146470627100282}},\n",
       " {'target': 0.7773465253458576,\n",
       "  'params': {'colsample_bytree': 0.6269424481115744,\n",
       "   'max_bin': 437.7139376223468,\n",
       "   'max_depth': 10.067905118404836,\n",
       "   'min_child_samples': 156.49990300466584,\n",
       "   'min_child_weight': 22.141960867869216,\n",
       "   'num_leaves': 48.87410910290432,\n",
       "   'reg_alpha': 2.4315424555760057,\n",
       "   'reg_lambda': 7.9476159252537135,\n",
       "   'subsample': 0.8026954760296108}},\n",
       " {'target': 0.7755691213981508,\n",
       "  'params': {'colsample_bytree': 0.6130438290271676,\n",
       "   'max_bin': 419.58366433702696,\n",
       "   'max_depth': 7.913631427193261,\n",
       "   'min_child_samples': 184.35415742727062,\n",
       "   'min_child_weight': 43.845354443356754,\n",
       "   'num_leaves': 31.05128983753263,\n",
       "   'reg_alpha': 2.9916706763845773,\n",
       "   'reg_lambda': 5.967084205487295,\n",
       "   'subsample': 0.9756488486010738}},\n",
       " {'target': 0.7773196456448476,\n",
       "  'params': {'colsample_bytree': 0.72933598491204,\n",
       "   'max_bin': 445.3329893111673,\n",
       "   'max_depth': 15.627424825293682,\n",
       "   'min_child_samples': 129.8605981562837,\n",
       "   'min_child_weight': 32.64796416069389,\n",
       "   'num_leaves': 63.373932661766275,\n",
       "   'reg_alpha': 2.6178291840537,\n",
       "   'reg_lambda': 5.035387339997615,\n",
       "   'subsample': 0.7069797777805764}},\n",
       " {'target': 0.7762113766061457,\n",
       "  'params': {'colsample_bytree': 0.8039339626288711,\n",
       "   'max_bin': 416.1209181121695,\n",
       "   'max_depth': 13.738117889108103,\n",
       "   'min_child_samples': 128.42507045709382,\n",
       "   'min_child_weight': 1.951395934935214,\n",
       "   'num_leaves': 60.25187379577613,\n",
       "   'reg_alpha': 16.355173555781455,\n",
       "   'reg_lambda': 8.62885338508039,\n",
       "   'subsample': 0.5671505728765754}},\n",
       " {'target': 0.7762440223699537,\n",
       "  'params': {'colsample_bytree': 0.9923991578870796,\n",
       "   'max_bin': 410.0995180800571,\n",
       "   'max_depth': 15.393421387353701,\n",
       "   'min_child_samples': 126.62229828929968,\n",
       "   'min_child_weight': 10.443900798385616,\n",
       "   'num_leaves': 61.35136590351106,\n",
       "   'reg_alpha': 17.282584780351,\n",
       "   'reg_lambda': 9.366841232667687,\n",
       "   'subsample': 0.7423812215836665}},\n",
       " {'target': 0.7772812798832063,\n",
       "  'params': {'colsample_bytree': 0.6219505825569638,\n",
       "   'max_bin': 497.6904291168336,\n",
       "   'max_depth': 10.779061674945437,\n",
       "   'min_child_samples': 70.65783641017188,\n",
       "   'min_child_weight': 43.386805117741176,\n",
       "   'num_leaves': 48.6437333523004,\n",
       "   'reg_alpha': 1.1369932417773723,\n",
       "   'reg_lambda': 8.024060874982098,\n",
       "   'subsample': 0.9837004003971315}},\n",
       " {'target': 0.7761326579356012,\n",
       "  'params': {'colsample_bytree': 0.5052613821422103,\n",
       "   'max_bin': 415.1746323840486,\n",
       "   'max_depth': 12.719185147338829,\n",
       "   'min_child_samples': 131.42915277257504,\n",
       "   'min_child_weight': 7.043116264679833,\n",
       "   'num_leaves': 62.17338186534222,\n",
       "   'reg_alpha': 17.933475721581434,\n",
       "   'reg_lambda': 6.22164726553387,\n",
       "   'subsample': 0.8907047770904652}},\n",
       " {'target': 0.7773153203035257,\n",
       "  'params': {'colsample_bytree': 0.7073274009425805,\n",
       "   'max_bin': 457.32288221676725,\n",
       "   'max_depth': 11.885927315625842,\n",
       "   'min_child_samples': 35.68146338180793,\n",
       "   'min_child_weight': 14.360451352442295,\n",
       "   'num_leaves': 54.673607557983516,\n",
       "   'reg_alpha': 3.85279876138322,\n",
       "   'reg_lambda': 8.2761892284802,\n",
       "   'subsample': 0.9112479413161592}},\n",
       " {'target': 0.7770684120937986,\n",
       "  'params': {'colsample_bytree': 0.6511702377300737,\n",
       "   'max_bin': 498.0919527028658,\n",
       "   'max_depth': 15.844715184993552,\n",
       "   'min_child_samples': 68.41022205312484,\n",
       "   'min_child_weight': 38.936499069852026,\n",
       "   'num_leaves': 42.80102471543641,\n",
       "   'reg_alpha': 9.776148476054363,\n",
       "   'reg_lambda': 8.89029159988145,\n",
       "   'subsample': 0.5139390724686663}},\n",
       " {'target': 0.7749555583092521,\n",
       "  'params': {'colsample_bytree': 0.8225194632780155,\n",
       "   'max_bin': 418.67937624895353,\n",
       "   'max_depth': 6.561207051137151,\n",
       "   'min_child_samples': 125.16604966797507,\n",
       "   'min_child_weight': 1.8716911285615676,\n",
       "   'num_leaves': 61.338730279512774,\n",
       "   'reg_alpha': 18.907977998177834,\n",
       "   'reg_lambda': 5.197666849441292,\n",
       "   'subsample': 0.7501384926307817}},\n",
       " {'target': 0.7764718835110829,\n",
       "  'params': {'colsample_bytree': 0.8049127708123405,\n",
       "   'max_bin': 432.9794450102791,\n",
       "   'max_depth': 13.170789105561521,\n",
       "   'min_child_samples': 159.9998794806329,\n",
       "   'min_child_weight': 20.508130223447203,\n",
       "   'num_leaves': 52.54259117873046,\n",
       "   'reg_alpha': 13.09037483603729,\n",
       "   'reg_lambda': 6.148289870077169,\n",
       "   'subsample': 0.9010369266915803}},\n",
       " {'target': 0.7776325792447284,\n",
       "  'params': {'colsample_bytree': 0.6601563355114644,\n",
       "   'max_bin': 438.47817972717735,\n",
       "   'max_depth': 15.395174233202788,\n",
       "   'min_child_samples': 151.44132307438085,\n",
       "   'min_child_weight': 48.39400568490478,\n",
       "   'num_leaves': 61.994045004549584,\n",
       "   'reg_alpha': 2.6482862443383,\n",
       "   'reg_lambda': 5.525372541481257,\n",
       "   'subsample': 0.9570982501211829}},\n",
       " {'target': 0.7769369951038645,\n",
       "  'params': {'colsample_bytree': 0.9742992835653523,\n",
       "   'max_bin': 440.1034550248382,\n",
       "   'max_depth': 10.744204758986971,\n",
       "   'min_child_samples': 158.35790568308187,\n",
       "   'min_child_weight': 25.92146432007338,\n",
       "   'num_leaves': 50.89450318915966,\n",
       "   'reg_alpha': 0.31184343639773765,\n",
       "   'reg_lambda': 8.606337163025708,\n",
       "   'subsample': 0.5561675965344454}},\n",
       " {'target': 0.7773433992820599,\n",
       "  'params': {'colsample_bytree': 0.6415534332708777,\n",
       "   'max_bin': 428.05206560260075,\n",
       "   'max_depth': 13.205338028278605,\n",
       "   'min_child_samples': 138.13679340002778,\n",
       "   'min_child_weight': 24.621079234828173,\n",
       "   'num_leaves': 53.08175074624527,\n",
       "   'reg_alpha': 2.3272476132568527,\n",
       "   'reg_lambda': 3.7470137398212087,\n",
       "   'subsample': 0.9107050083587973}},\n",
       " {'target': 0.7768711555620157,\n",
       "  'params': {'colsample_bytree': 0.7408287384545253,\n",
       "   'max_bin': 443.87268591413397,\n",
       "   'max_depth': 15.910441462407908,\n",
       "   'min_child_samples': 143.27842720841673,\n",
       "   'min_child_weight': 14.160903274529604,\n",
       "   'num_leaves': 54.30058039141747,\n",
       "   'reg_alpha': 0.8651339766653754,\n",
       "   'reg_lambda': 0.6160645589367278,\n",
       "   'subsample': 0.8543285887805188}},\n",
       " {'target': 0.7766344976011137,\n",
       "  'params': {'colsample_bytree': 0.6861241461283832,\n",
       "   'max_bin': 443.3674835558395,\n",
       "   'max_depth': 9.642458635182074,\n",
       "   'min_child_samples': 142.86864420153344,\n",
       "   'min_child_weight': 47.75303278539539,\n",
       "   'num_leaves': 49.45745363792893,\n",
       "   'reg_alpha': 7.6974716964073036,\n",
       "   'reg_lambda': 1.1863852609099586,\n",
       "   'subsample': 0.658889169470193}},\n",
       " {'target': 0.7771676535002521,\n",
       "  'params': {'colsample_bytree': 0.9454226362166256,\n",
       "   'max_bin': 479.7107577580803,\n",
       "   'max_depth': 12.765755049934704,\n",
       "   'min_child_samples': 41.52548315090276,\n",
       "   'min_child_weight': 29.491685380611113,\n",
       "   'num_leaves': 59.849118289505824,\n",
       "   'reg_alpha': 5.279465621177278,\n",
       "   'reg_lambda': 3.3182002302873803,\n",
       "   'subsample': 0.6521366009048027}},\n",
       " {'target': 0.7761250905738466,\n",
       "  'params': {'colsample_bytree': 0.7125125982840923,\n",
       "   'max_bin': 461.40629380085977,\n",
       "   'max_depth': 8.192723378802253,\n",
       "   'min_child_samples': 53.73264238481054,\n",
       "   'min_child_weight': 26.116976124848716,\n",
       "   'num_leaves': 51.01034308279495,\n",
       "   'reg_alpha': 8.932466264026726,\n",
       "   'reg_lambda': 0.10401496210188632,\n",
       "   'subsample': 0.5356888889640445}},\n",
       " {'target': 0.7772459512323278,\n",
       "  'params': {'colsample_bytree': 0.8754895488840213,\n",
       "   'max_bin': 426.72900585152644,\n",
       "   'max_depth': 13.473131026835814,\n",
       "   'min_child_samples': 140.1334589679769,\n",
       "   'min_child_weight': 39.08325620488101,\n",
       "   'num_leaves': 63.440491470351716,\n",
       "   'reg_alpha': 1.3247818336603283,\n",
       "   'reg_lambda': 4.077089643299255,\n",
       "   'subsample': 0.5173639602148739}},\n",
       " {'target': 0.7768328263346566,\n",
       "  'params': {'colsample_bytree': 0.69769804853836,\n",
       "   'max_bin': 469.9275059590703,\n",
       "   'max_depth': 8.590406920234305,\n",
       "   'min_child_samples': 19.46477975768898,\n",
       "   'min_child_weight': 31.141061031319882,\n",
       "   'num_leaves': 49.082168555826826,\n",
       "   'reg_alpha': 4.493502073922411,\n",
       "   'reg_lambda': 6.626131317209288,\n",
       "   'subsample': 0.8361059275258682}},\n",
       " {'target': 0.776410856963801,\n",
       "  'params': {'colsample_bytree': 0.5896247709201063,\n",
       "   'max_bin': 476.8506437904512,\n",
       "   'max_depth': 7.578909435761002,\n",
       "   'min_child_samples': 26.18972645094282,\n",
       "   'min_child_weight': 3.957113213221519,\n",
       "   'num_leaves': 63.912115919360104,\n",
       "   'reg_alpha': 13.223892738253975,\n",
       "   'reg_lambda': 1.4911549437014178,\n",
       "   'subsample': 0.9084724971076784}},\n",
       " {'target': 0.7769705589900684,\n",
       "  'params': {'colsample_bytree': 0.7843767729541526,\n",
       "   'max_bin': 497.7656101257265,\n",
       "   'max_depth': 11.243431761626262,\n",
       "   'min_child_samples': 48.74437562494943,\n",
       "   'min_child_weight': 41.12564070586128,\n",
       "   'num_leaves': 41.77115259325338,\n",
       "   'reg_alpha': 1.7724042191570515,\n",
       "   'reg_lambda': 4.537880440186301,\n",
       "   'subsample': 0.9282625250531205}},\n",
       " {'target': 0.7776743569906369,\n",
       "  'params': {'colsample_bytree': 0.6173018328580049,\n",
       "   'max_bin': 499.3972330245431,\n",
       "   'max_depth': 13.449824828941859,\n",
       "   'min_child_samples': 60.93736887309616,\n",
       "   'min_child_weight': 23.22575665016526,\n",
       "   'num_leaves': 56.32535872887304,\n",
       "   'reg_alpha': 4.316459771428574,\n",
       "   'reg_lambda': 2.0002145324686245,\n",
       "   'subsample': 0.6297763732797832}},\n",
       " {'target': 0.7767790351636954,\n",
       "  'params': {'colsample_bytree': 0.6016253111831539,\n",
       "   'max_bin': 498.3344342450207,\n",
       "   'max_depth': 14.950709935008463,\n",
       "   'min_child_samples': 45.87224828404694,\n",
       "   'min_child_weight': 23.1897275224433,\n",
       "   'num_leaves': 55.854879874453914,\n",
       "   'reg_alpha': 12.807413297623446,\n",
       "   'reg_lambda': 8.803700886089048,\n",
       "   'subsample': 0.9214079202311984}}]"
      ]
     },
     "execution_count": 13,
     "metadata": {},
     "output_type": "execute_result"
    }
   ],
   "source": [
    "# The res of the Bayesian Optimization object has all function return results and parameter result values at that time whenever it is performed.\n",
    "lgbBO.res"
   ]
  },
  {
   "cell_type": "markdown",
   "metadata": {
    "colab_type": "text",
    "id": "7pF714uFvR5l"
   },
   "source": [
    "# As a result of the Iteration\n",
    "- the index with the maximum target value is extracted from the Dictionary and the parameter value is extracted."
   ]
  },
  {
   "cell_type": "code",
   "execution_count": 14,
   "metadata": {
    "colab": {},
    "colab_type": "code",
    "id": "aR-_KsyivR5o"
   },
   "outputs": [
    {
     "name": "stdout",
     "output_type": "stream",
     "text": [
      "[0.7754019849993636, 0.7756649587625722, 0.7773337907658435, 0.7743404274231133, 0.7740445759828272, 0.7741741249590283, 0.7773465253458576, 0.7755691213981508, 0.7773196456448476, 0.7762113766061457, 0.7762440223699537, 0.7772812798832063, 0.7761326579356012, 0.7773153203035257, 0.7770684120937986, 0.7749555583092521, 0.7764718835110829, 0.7776325792447284, 0.7769369951038645, 0.7773433992820599, 0.7768711555620157, 0.7766344976011137, 0.7771676535002521, 0.7761250905738466, 0.7772459512323278, 0.7768328263346566, 0.776410856963801, 0.7769705589900684, 0.7776743569906369, 0.7767790351636954]\n",
      "maximum target index: 28\n"
     ]
    }
   ],
   "source": [
    "# Extract all target values in dictionary\n",
    "target_list = []\n",
    "for result in lgbBO.res:\n",
    "    target = result['target']\n",
    "    target_list.append(target)\n",
    "print(target_list)\n",
    "# Extract the index with the largest target value\n",
    "print('maximum target index:', np.argmax(np.array(target_list)))"
   ]
  },
  {
   "cell_type": "code",
   "execution_count": 15,
   "metadata": {
    "colab": {},
    "colab_type": "code",
    "id": "zZLxoImyvR5x"
   },
   "outputs": [
    {
     "name": "stdout",
     "output_type": "stream",
     "text": [
      "{'target': 0.7776743569906369, 'params': {'colsample_bytree': 0.6173018328580049, 'max_bin': 499.3972330245431, 'max_depth': 13.449824828941859, 'min_child_samples': 60.93736887309616, 'min_child_weight': 23.22575665016526, 'num_leaves': 56.32535872887304, 'reg_alpha': 4.316459771428574, 'reg_lambda': 2.0002145324686245, 'subsample': 0.6297763732797832}}\n"
     ]
    }
   ],
   "source": [
    "# Extract the corresponding parameter from res based on index value with the largest target value.\n",
    "max_dict = lgbBO.res[np.argmax(np.array(target_list))]\n",
    "print(max_dict)"
   ]
  },
  {
   "cell_type": "markdown",
   "metadata": {
    "colab_type": "text",
    "id": "mQ0EHnuIvR53"
   },
   "source": [
    "# Retest based on optimized hyperparameters"
   ]
  },
  {
   "cell_type": "code",
   "execution_count": 16,
   "metadata": {
    "colab": {},
    "colab_type": "code",
    "id": "32l2G2bZvR54"
   },
   "outputs": [],
   "source": [
    "def train_apps_all(apps_all_train):\n",
    "    ftr_app = apps_all_train.drop(['SK_ID_CURR', 'TARGET'], axis=1)\n",
    "    target_app = apps_all_train['TARGET']\n",
    "\n",
    "    train_x, valid_x, train_y, valid_y = train_test_split(ftr_app, target_app, test_size=0.3, random_state=2020)\n",
    "    print('train shape:', train_x.shape, 'valid shape:', valid_x.shape)\n",
    "    clf = LGBMClassifier(\n",
    "                nthread=4,\n",
    "                n_estimators=1000,\n",
    "                learning_rate=0.02,\n",
    "                max_depth = 13,\n",
    "                num_leaves=57,\n",
    "                colsample_bytree=0.638,\n",
    "                subsample=0.682,\n",
    "                max_bin=435,\n",
    "                reg_alpha=0.936,\n",
    "                reg_lambda=4.533,\n",
    "                min_child_weight=25,\n",
    "                min_child_samples=166,\n",
    "                silent=-1,\n",
    "                verbose=-1,\n",
    "                )\n",
    "\n",
    "    clf.fit(train_x, train_y, eval_set=[(train_x, train_y), (valid_x, valid_y)], eval_metric= 'auc', verbose= 100, \n",
    "                early_stopping_rounds= 100)\n",
    "    \n",
    "    return clf"
   ]
  },
  {
   "cell_type": "code",
   "execution_count": 17,
   "metadata": {
    "colab": {},
    "colab_type": "code",
    "id": "XxqV8KpFvR5_"
   },
   "outputs": [
    {
     "name": "stderr",
     "output_type": "stream",
     "text": [
      "/var/folders/df/19n86p1s63b0654c8m28bsg80000gn/T/ipykernel_68453/1480129953.py:53: FutureWarning: Index.ravel returning ndarray is deprecated; in a future version this will return a view on self.\n",
      "  prev_amt_agg.columns = [\"PREV_\"+ \"_\".join(x).upper() for x in prev_amt_agg.columns.ravel()]\n"
     ]
    },
    {
     "name": "stdout",
     "output_type": "stream",
     "text": [
      "prev_agg shape: (338857, 41)\n",
      "apps_all before merge shape: (356255, 135)\n",
      "apps_all after merge with prev_agg shape: (356255, 176)\n",
      "train shape: (215257, 174) valid shape: (92254, 174)\n"
     ]
    },
    {
     "name": "stderr",
     "output_type": "stream",
     "text": [
      "/Users/chloe/opt/anaconda3/lib/python3.9/site-packages/lightgbm/sklearn.py:598: UserWarning: 'silent' argument is deprecated and will be removed in a future release of LightGBM. Pass 'verbose' parameter via keyword arguments instead.\n",
      "  _log_warning(\"'silent' argument is deprecated and will be removed in a future release of LightGBM. \"\n",
      "/Users/chloe/opt/anaconda3/lib/python3.9/site-packages/lightgbm/sklearn.py:726: UserWarning: 'early_stopping_rounds' argument is deprecated and will be removed in a future release of LightGBM. Pass 'early_stopping()' callback via 'callbacks' argument instead.\n",
      "  _log_warning(\"'early_stopping_rounds' argument is deprecated and will be removed in a future release of LightGBM. \"\n",
      "/Users/chloe/opt/anaconda3/lib/python3.9/site-packages/lightgbm/sklearn.py:736: UserWarning: 'verbose' argument is deprecated and will be removed in a future release of LightGBM. Pass 'log_evaluation()' callback via 'callbacks' argument instead.\n",
      "  _log_warning(\"'verbose' argument is deprecated and will be removed in a future release of LightGBM. \"\n"
     ]
    },
    {
     "name": "stdout",
     "output_type": "stream",
     "text": [
      "[LightGBM] [Warning] num_threads is set with nthread=4, will be overridden by n_jobs=-1. Current value: num_threads=-1\n",
      "[100]\ttraining's auc: 0.780153\ttraining's binary_logloss: 0.242981\tvalid_1's auc: 0.759911\tvalid_1's binary_logloss: 0.24756\n",
      "[200]\ttraining's auc: 0.801589\ttraining's binary_logloss: 0.233556\tvalid_1's auc: 0.769847\tvalid_1's binary_logloss: 0.242803\n",
      "[300]\ttraining's auc: 0.817628\ttraining's binary_logloss: 0.227376\tvalid_1's auc: 0.773659\tvalid_1's binary_logloss: 0.241322\n",
      "[400]\ttraining's auc: 0.831406\ttraining's binary_logloss: 0.222166\tvalid_1's auc: 0.776379\tvalid_1's binary_logloss: 0.240369\n",
      "[500]\ttraining's auc: 0.84293\ttraining's binary_logloss: 0.217731\tvalid_1's auc: 0.777363\tvalid_1's binary_logloss: 0.240028\n",
      "[600]\ttraining's auc: 0.853247\ttraining's binary_logloss: 0.21375\tvalid_1's auc: 0.777921\tvalid_1's binary_logloss: 0.239843\n",
      "[700]\ttraining's auc: 0.862535\ttraining's binary_logloss: 0.210085\tvalid_1's auc: 0.77821\tvalid_1's binary_logloss: 0.239772\n",
      "[800]\ttraining's auc: 0.871324\ttraining's binary_logloss: 0.20648\tvalid_1's auc: 0.778582\tvalid_1's binary_logloss: 0.239664\n",
      "[900]\ttraining's auc: 0.879739\ttraining's binary_logloss: 0.203013\tvalid_1's auc: 0.778513\tvalid_1's binary_logloss: 0.239672\n"
     ]
    }
   ],
   "source": [
    "apps_all = get_apps_all_with_prev_agg(apps, prev)\n",
    "apps_all = get_apps_all_encoded(apps_all)\n",
    "apps_all_train, apps_all_test = get_apps_all_train_test(apps_all)\n",
    "clf = train_apps_all(apps_all_train)"
   ]
  },
  {
   "cell_type": "code",
   "execution_count": 18,
   "metadata": {
    "colab": {},
    "colab_type": "code",
    "id": "gQrAcQ1QvR6I"
   },
   "outputs": [],
   "source": [
    "preds = clf.predict_proba(apps_all_test.drop('SK_ID_CURR', axis=1))[:, 1 ]\n",
    "apps_all_test['TARGET'] = preds\n",
    "apps_all_test[['SK_ID_CURR', 'TARGET']].to_csv('prev_baseline_tuning_01.csv', index=False)"
   ]
  },
  {
   "cell_type": "markdown",
   "metadata": {
    "colab": {},
    "colab_type": "code",
    "id": "l01RNW9nvR6y"
   },
   "source": [
    "# Re-tuning hyper parameters by CV"
   ]
  },
  {
   "cell_type": "code",
   "execution_count": 19,
   "metadata": {},
   "outputs": [],
   "source": [
    "bayesian_params = {\n",
    "    'max_depth': (6, 16), \n",
    "    'num_leaves': (24, 64), \n",
    "    'min_data_in_leaf': (10, 200), # min_child_samples\n",
    "    'min_child_weight':(1, 50),\n",
    "    'bagging_fraction':(0.5, 1.0), # subsample\n",
    "    'feature_fraction': (0.5, 1.0), # colsample_bytree\n",
    "    'max_bin':(10, 500),\n",
    "    'lambda_l2':(0.001, 10), # reg_lambda\n",
    "    'lambda_l1': (0.01, 50) # reg_alpha\n",
    "}"
   ]
  },
  {
   "cell_type": "code",
   "execution_count": 20,
   "metadata": {},
   "outputs": [],
   "source": [
    "import lightgbm as lgb\n",
    "\n",
    "train_data = lgb.Dataset(data=ftr_app, label=target_app, free_raw_data=False)\n",
    "def lgb_roc_eval_cv(max_depth, num_leaves, min_data_in_leaf, min_child_weight, bagging_fraction, \n",
    "                 feature_fraction,  max_bin, lambda_l2, lambda_l1):   \n",
    "    params = {\n",
    "        \"num_iterations\":500, \"learning_rate\":0.02,\n",
    "        'early_stopping_rounds':100, 'metric':'auc',\n",
    "        'max_depth': int(round(max_depth)), #  Change double type hyperparameters to integer types because double type values are entered at call time\n",
    "        'num_leaves': int(round(num_leaves)), \n",
    "        'min_data_in_leaf': int(round(min_data_in_leaf)),\n",
    "        'min_child_weight': int(round(min_child_weight)),\n",
    "        'bagging_fraction': max(min(bagging_fraction, 1), 0), \n",
    "        'feature_fraction': max(min(feature_fraction, 1), 0),\n",
    "        'max_bin':  max(int(round(max_bin)),10),\n",
    "        'lambda_l2': max(lambda_l2,0),\n",
    "        'lambda_l1': max(lambda_l1, 0)\n",
    "    }\n",
    "    # lightgbm cv \n",
    "    cv_result = lgb.cv(params, train_data, nfold=3, seed=0,  verbose_eval =100,  early_stopping_rounds=50, metrics=['auc'])\n",
    "    return max(cv_result['auc-mean'])   "
   ]
  },
  {
   "cell_type": "code",
   "execution_count": 21,
   "metadata": {},
   "outputs": [
    {
     "name": "stdout",
     "output_type": "stream",
     "text": [
      "{'target': 0.7776743569906369, 'params': {'colsample_bytree': 0.6173018328580049, 'max_bin': 499.3972330245431, 'max_depth': 13.449824828941859, 'min_child_samples': 60.93736887309616, 'min_child_weight': 23.22575665016526, 'num_leaves': 56.32535872887304, 'reg_alpha': 4.316459771428574, 'reg_lambda': 2.0002145324686245, 'subsample': 0.6297763732797832}}\n"
     ]
    }
   ],
   "source": [
    "max_dict = lgbBO.res[np.argmax(np.array(target_list))]\n",
    "print(max_dict)"
   ]
  },
  {
   "cell_type": "code",
   "execution_count": 22,
   "metadata": {},
   "outputs": [],
   "source": [
    "def train_apps_all(apps_all_train):\n",
    "    ftr_app = apps_all_train.drop(['SK_ID_CURR', 'TARGET'], axis=1)\n",
    "    target_app = apps_all_train['TARGET']\n",
    "\n",
    "    train_x, valid_x, train_y, valid_y = train_test_split(ftr_app, target_app, test_size=0.3, random_state=2020)\n",
    "    print('train shape:', train_x.shape, 'valid shape:', valid_x.shape)\n",
    "    clf = LGBMClassifier(\n",
    "                nthread=4,\n",
    "                n_estimators=1000,\n",
    "                learning_rate=0.02,\n",
    "                max_depth = 10,\n",
    "                num_leaves=60,\n",
    "                colsample_bytree=0.511,\n",
    "                subsample=0.785,\n",
    "                max_bin=208,\n",
    "                reg_alpha=7.009,\n",
    "                reg_lambda=6.579,\n",
    "                min_child_weight=40,\n",
    "                min_child_samples=91,\n",
    "                silent=-1,\n",
    "                verbose=-1,\n",
    "                )\n",
    "\n",
    "    clf.fit(train_x, train_y, eval_set=[(train_x, train_y), (valid_x, valid_y)], eval_metric= 'auc', verbose= 100, \n",
    "                early_stopping_rounds= 100)\n",
    "    \n",
    "    return clf"
   ]
  },
  {
   "cell_type": "code",
   "execution_count": 23,
   "metadata": {},
   "outputs": [
    {
     "name": "stderr",
     "output_type": "stream",
     "text": [
      "/var/folders/df/19n86p1s63b0654c8m28bsg80000gn/T/ipykernel_68453/1480129953.py:53: FutureWarning: Index.ravel returning ndarray is deprecated; in a future version this will return a view on self.\n",
      "  prev_amt_agg.columns = [\"PREV_\"+ \"_\".join(x).upper() for x in prev_amt_agg.columns.ravel()]\n"
     ]
    },
    {
     "name": "stdout",
     "output_type": "stream",
     "text": [
      "prev_agg shape: (338857, 41)\n",
      "apps_all before merge shape: (356255, 135)\n",
      "apps_all after merge with prev_agg shape: (356255, 176)\n",
      "train shape: (215257, 174) valid shape: (92254, 174)\n"
     ]
    },
    {
     "name": "stderr",
     "output_type": "stream",
     "text": [
      "/Users/chloe/opt/anaconda3/lib/python3.9/site-packages/lightgbm/sklearn.py:598: UserWarning: 'silent' argument is deprecated and will be removed in a future release of LightGBM. Pass 'verbose' parameter via keyword arguments instead.\n",
      "  _log_warning(\"'silent' argument is deprecated and will be removed in a future release of LightGBM. \"\n",
      "/Users/chloe/opt/anaconda3/lib/python3.9/site-packages/lightgbm/sklearn.py:726: UserWarning: 'early_stopping_rounds' argument is deprecated and will be removed in a future release of LightGBM. Pass 'early_stopping()' callback via 'callbacks' argument instead.\n",
      "  _log_warning(\"'early_stopping_rounds' argument is deprecated and will be removed in a future release of LightGBM. \"\n",
      "/Users/chloe/opt/anaconda3/lib/python3.9/site-packages/lightgbm/sklearn.py:736: UserWarning: 'verbose' argument is deprecated and will be removed in a future release of LightGBM. Pass 'log_evaluation()' callback via 'callbacks' argument instead.\n",
      "  _log_warning(\"'verbose' argument is deprecated and will be removed in a future release of LightGBM. \"\n"
     ]
    },
    {
     "name": "stdout",
     "output_type": "stream",
     "text": [
      "[LightGBM] [Warning] num_threads is set with nthread=4, will be overridden by n_jobs=-1. Current value: num_threads=-1\n",
      "[100]\ttraining's auc: 0.778267\ttraining's binary_logloss: 0.244198\tvalid_1's auc: 0.759489\tvalid_1's binary_logloss: 0.248092\n",
      "[200]\ttraining's auc: 0.796481\ttraining's binary_logloss: 0.235631\tvalid_1's auc: 0.768743\tvalid_1's binary_logloss: 0.243337\n",
      "[300]\ttraining's auc: 0.809962\ttraining's binary_logloss: 0.230278\tvalid_1's auc: 0.773131\tvalid_1's binary_logloss: 0.241656\n",
      "[400]\ttraining's auc: 0.821143\ttraining's binary_logloss: 0.225997\tvalid_1's auc: 0.775193\tvalid_1's binary_logloss: 0.240905\n",
      "[500]\ttraining's auc: 0.831372\ttraining's binary_logloss: 0.222146\tvalid_1's auc: 0.776484\tvalid_1's binary_logloss: 0.24044\n",
      "[600]\ttraining's auc: 0.840357\ttraining's binary_logloss: 0.21869\tvalid_1's auc: 0.777441\tvalid_1's binary_logloss: 0.240083\n",
      "[700]\ttraining's auc: 0.848739\ttraining's binary_logloss: 0.215451\tvalid_1's auc: 0.777972\tvalid_1's binary_logloss: 0.239874\n",
      "[800]\ttraining's auc: 0.856446\ttraining's binary_logloss: 0.212414\tvalid_1's auc: 0.778259\tvalid_1's binary_logloss: 0.239791\n",
      "[900]\ttraining's auc: 0.863572\ttraining's binary_logloss: 0.209533\tvalid_1's auc: 0.7784\tvalid_1's binary_logloss: 0.239733\n",
      "[1000]\ttraining's auc: 0.870109\ttraining's binary_logloss: 0.206822\tvalid_1's auc: 0.778498\tvalid_1's binary_logloss: 0.239692\n"
     ]
    }
   ],
   "source": [
    "apps_all = get_apps_all_with_prev_agg(apps, prev)\n",
    "apps_all = get_apps_all_encoded(apps_all)\n",
    "apps_all_train, apps_all_test = get_apps_all_train_test(apps_all)\n",
    "clf = train_apps_all(apps_all_train)"
   ]
  },
  {
   "cell_type": "code",
   "execution_count": 24,
   "metadata": {},
   "outputs": [],
   "source": [
    "preds = clf.predict_proba(apps_all_test.drop('SK_ID_CURR', axis=1))[:, 1 ]\n",
    "apps_all_test['TARGET'] = preds\n",
    "apps_all_test[['SK_ID_CURR', 'TARGET']].to_csv('prev_baseline_tuning_02.csv', index=False)"
   ]
  }
 ],
 "metadata": {
  "colab": {
   "name": "hyper_param_tuning_01.ipynb",
   "provenance": []
  },
  "kernelspec": {
   "display_name": "Python 3.9.12 ('base')",
   "language": "python",
   "name": "python3"
  },
  "language_info": {
   "codemirror_mode": {
    "name": "ipython",
    "version": 3
   },
   "file_extension": ".py",
   "mimetype": "text/x-python",
   "name": "python",
   "nbconvert_exporter": "python",
   "pygments_lexer": "ipython3",
   "version": "3.9.12"
  },
  "vscode": {
   "interpreter": {
    "hash": "fba35677b2d725efedf8456201a17a1e64108c6ceb85b86f6a50c8dc7e15654f"
   }
  }
 },
 "nbformat": 4,
 "nbformat_minor": 1
}
